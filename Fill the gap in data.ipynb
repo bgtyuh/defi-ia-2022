{
 "cells": [
  {
   "cell_type": "markdown",
   "id": "c56c9f09-e654-42de-9c21-8c680524569e",
   "metadata": {},
   "source": [
    "<center><h1>Kaggle"
   ]
  },
  {
   "cell_type": "code",
   "execution_count": 1,
   "id": "237db658-df92-43ef-b779-940ac77ae89d",
   "metadata": {},
   "outputs": [],
   "source": [
    "import pandas as pd\n",
    "import numpy as np\n",
    "# import matplotlib.pyplot as plt\n",
    "# import plotly.graph_objects as go\n",
    "# import plotly.express as px\n",
    "from sklearn.metrics import mean_absolute_percentage_error as mape # usage : print(mape(pred, observed))\n",
    "\n",
    "import datetime\n",
    "\n",
    "path = 'C:/Users/sebir/Desktop/M2 Toulouse/Défi IA/'"
   ]
  },
  {
   "cell_type": "markdown",
   "id": "98271f11-6ff4-4aee-bd05-277134c6fc7c",
   "metadata": {},
   "source": [
    "# Import data"
   ]
  },
  {
   "cell_type": "code",
   "execution_count": 2,
   "id": "d2533486-de74-4d70-aebf-b4aa5f585068",
   "metadata": {},
   "outputs": [],
   "source": [
    "# Training set, X\n",
    "X = pd.read_csv(path + 'X_station_train.csv',\n",
    "                parse_dates=['date'],\n",
    "                infer_datetime_format=True)\n",
    "X.columns = ['number_sta', 'date', 'wind_speed', 'temperature', 'dew_point_temperature', 'humidity', 'wind_direction', 'precipitation', 'Id']\n",
    "\n",
    "# Training set, Y\n",
    "Y = pd.read_csv(path + 'Y_train.csv',\n",
    "                parse_dates=['date'],\n",
    "                infer_datetime_format=True)"
   ]
  },
  {
   "cell_type": "markdown",
   "id": "2a3dae72-2378-4cba-b0c5-1ee7471f060f",
   "metadata": {},
   "source": [
    "# Preprocess data"
   ]
  },
  {
   "cell_type": "markdown",
   "id": "e5874fad-7fdc-4ec5-a03a-2fcbbe2fa817",
   "metadata": {},
   "source": [
    "We have to group the data by data in order to have something comparable with `Y`"
   ]
  },
  {
   "cell_type": "code",
   "execution_count": 3,
   "id": "a5f73906-a159-476e-8645-1352c286a1b9",
   "metadata": {},
   "outputs": [],
   "source": [
    "X['day'] = X['date'].apply(lambda x: x.date())"
   ]
  },
  {
   "cell_type": "code",
   "execution_count": 4,
   "id": "d51217fe-31fb-42f0-8327-24ae14a391c1",
   "metadata": {},
   "outputs": [],
   "source": [
    "X_agg = X.copy()\n",
    "X_agg = X_agg.groupby(by = ['day', 'number_sta'], as_index = False).agg({\n",
    "    \"number_sta\"            : \"first\",\n",
    "    \"wind_speed\"            : \"median\",\n",
    "    \"temperature\"           : \"median\",\n",
    "    \"dew_point_temperature\" : \"median\",\n",
    "    \"humidity\"              : \"median\",\n",
    "    \"wind_direction\"        : \"median\",\n",
    "    \"precipitation\"         : \"sum\"\n",
    "})"
   ]
  },
  {
   "cell_type": "markdown",
   "id": "bc8e8591-752b-4d59-b5ee-da4fc81d6f94",
   "metadata": {},
   "source": [
    "# Fill in the gaps\n",
    "We have to find a way to fill the gaps in the data. Suggested ways:\n",
    "* fill the mean or the median, e.g., for a given variable\n",
    "    * take the general median of the whole training dataset (not working, Martin says)\n",
    "    * take the median of the month (not working, Martin says)\n",
    "* take the value from the nearest neighbour\n",
    "* interpolate the value from nearest neighbours"
   ]
  },
  {
   "cell_type": "code",
   "execution_count": 5,
   "id": "276cb936-e1d7-4fe9-ac30-56dca5c1b2cc",
   "metadata": {},
   "outputs": [
    {
     "data": {
      "text/html": [
       "<div>\n",
       "<style scoped>\n",
       "    .dataframe tbody tr th:only-of-type {\n",
       "        vertical-align: middle;\n",
       "    }\n",
       "\n",
       "    .dataframe tbody tr th {\n",
       "        vertical-align: top;\n",
       "    }\n",
       "\n",
       "    .dataframe thead th {\n",
       "        text-align: right;\n",
       "    }\n",
       "</style>\n",
       "<table border=\"1\" class=\"dataframe\">\n",
       "  <thead>\n",
       "    <tr style=\"text-align: right;\">\n",
       "      <th></th>\n",
       "      <th>lat</th>\n",
       "      <th>lon</th>\n",
       "      <th>height_sta</th>\n",
       "    </tr>\n",
       "    <tr>\n",
       "      <th>number_sta</th>\n",
       "      <th></th>\n",
       "      <th></th>\n",
       "      <th></th>\n",
       "    </tr>\n",
       "  </thead>\n",
       "  <tbody>\n",
       "    <tr>\n",
       "      <th>86118001</th>\n",
       "      <td>46.477</td>\n",
       "      <td>0.985</td>\n",
       "      <td>120.0</td>\n",
       "    </tr>\n",
       "    <tr>\n",
       "      <th>86149001</th>\n",
       "      <td>46.917</td>\n",
       "      <td>0.025</td>\n",
       "      <td>60.0</td>\n",
       "    </tr>\n",
       "    <tr>\n",
       "      <th>56081003</th>\n",
       "      <td>48.050</td>\n",
       "      <td>-3.660</td>\n",
       "      <td>165.0</td>\n",
       "    </tr>\n",
       "    <tr>\n",
       "      <th>53215001</th>\n",
       "      <td>47.790</td>\n",
       "      <td>-0.710</td>\n",
       "      <td>63.0</td>\n",
       "    </tr>\n",
       "    <tr>\n",
       "      <th>22135001</th>\n",
       "      <td>48.550</td>\n",
       "      <td>-3.380</td>\n",
       "      <td>148.0</td>\n",
       "    </tr>\n",
       "    <tr>\n",
       "      <th>...</th>\n",
       "      <td>...</td>\n",
       "      <td>...</td>\n",
       "      <td>...</td>\n",
       "    </tr>\n",
       "    <tr>\n",
       "      <th>86137003</th>\n",
       "      <td>47.035</td>\n",
       "      <td>0.098</td>\n",
       "      <td>96.0</td>\n",
       "    </tr>\n",
       "    <tr>\n",
       "      <th>86165005</th>\n",
       "      <td>46.412</td>\n",
       "      <td>0.841</td>\n",
       "      <td>153.0</td>\n",
       "    </tr>\n",
       "    <tr>\n",
       "      <th>86273001</th>\n",
       "      <td>46.464</td>\n",
       "      <td>1.042</td>\n",
       "      <td>121.0</td>\n",
       "    </tr>\n",
       "    <tr>\n",
       "      <th>91200002</th>\n",
       "      <td>48.526</td>\n",
       "      <td>1.993</td>\n",
       "      <td>116.0</td>\n",
       "    </tr>\n",
       "    <tr>\n",
       "      <th>95690001</th>\n",
       "      <td>49.108</td>\n",
       "      <td>1.831</td>\n",
       "      <td>126.0</td>\n",
       "    </tr>\n",
       "  </tbody>\n",
       "</table>\n",
       "<p>325 rows × 3 columns</p>\n",
       "</div>"
      ],
      "text/plain": [
       "               lat    lon  height_sta\n",
       "number_sta                           \n",
       "86118001    46.477  0.985       120.0\n",
       "86149001    46.917  0.025        60.0\n",
       "56081003    48.050 -3.660       165.0\n",
       "53215001    47.790 -0.710        63.0\n",
       "22135001    48.550 -3.380       148.0\n",
       "...            ...    ...         ...\n",
       "86137003    47.035  0.098        96.0\n",
       "86165005    46.412  0.841       153.0\n",
       "86273001    46.464  1.042       121.0\n",
       "91200002    48.526  1.993       116.0\n",
       "95690001    49.108  1.831       126.0\n",
       "\n",
       "[325 rows x 3 columns]"
      ]
     },
     "metadata": {},
     "output_type": "display_data"
    },
    {
     "data": {
      "image/png": "[encoded data removed]",
      "text/plain": [
       "<Figure size 432x288 with 1 Axes>"
      ]
     },
     "metadata": {
      "needs_background": "light"
     },
     "output_type": "display_data"
    }
   ],
   "source": [
    "stations = pd.read_csv(path + 'stations_coordinates.csv')\n",
    "stations.set_index('number_sta', inplace = True)\n",
    "display(stations)\n",
    "stations.plot(x = 'lon', y = 'lat', kind = 'scatter');"
   ]
  },
  {
   "cell_type": "markdown",
   "id": "78ef85b0-eedb-4485-aded-f23788687ae8",
   "metadata": {},
   "source": [
    "## Fill with data from nearest(s) neighbour(s)\n",
    "We can firstly try to take the missing data from the nearest neighbour, or the next nearest neighbours in case the data is not available there. For all the stations, we have to compute the distance to all the other stations and sort them according to this distance.\n",
    "\n",
    "Here, using directly the `lon` and `lat` coordinates as `x`, `y`, we assume that Earth's curve is small enough on this area. Could be assessed later on.\n",
    "\n",
    "We also only take into account the spatial data and not the altitude, which may be an important information."
   ]
  },
  {
   "cell_type": "code",
   "execution_count": 6,
   "id": "3f2cedcb-1840-4ab3-94e6-3fdaac0ccdb8",
   "metadata": {},
   "outputs": [],
   "source": [
    "from scipy.spatial import distance_matrix\n",
    "distances = pd.DataFrame(distance_matrix(stations[['lon', 'lat']],\n",
    "                                         stations[['lon', 'lat']]),\n",
    "                         index=stations.index,\n",
    "                         columns=stations.index)\n",
    "\n",
    "nearestNeighbours = pd.DataFrame(index = stations.index,\n",
    "                                 columns = range(len(stations)))\n",
    "for station in nearestNeighbours.index:\n",
    "    nearestNeighbours.loc[station] = distances.loc[station].sort_values().index\n",
    "nearestNeighbours.drop(0, axis = 1, inplace = True)"
   ]
  },
  {
   "cell_type": "markdown",
   "id": "1b173362-4dae-41c2-83c6-1a94f470bd55",
   "metadata": {},
   "source": [
    "Let's make a function that, given the DataFrame and the column to fill, returns a Series with NAs filled:\n",
    "1. Find the index of NA values in this column\n",
    "2. For each NA value found: (nearest neighbour value - could do interpolation)\n",
    "    1. Find corresponding number_sta\n",
    "    2. Find nearest neighbours of this number_sta\n",
    "    3. Iterate over nearest neighbours, try to find a value for this day and this column"
   ]
  },
  {
   "cell_type": "code",
   "execution_count": null,
   "id": "b492ce91-efaf-495d-838a-dedf0db8a7f3",
   "metadata": {},
   "outputs": [],
   "source": [
    "# # Old version, working but very slow\n",
    "# from tqdm.notebook import tqdm\n",
    "\n",
    "# # We can make a function that for a given\n",
    "# def fillNAs(df, columnToFill, method = 'nearestNeighbour'):\n",
    "    \n",
    "#     filledColumn = df[columnToFill].copy()\n",
    "#     indexesToFill = df.loc[pd.isna(df[columnToFill]), :].index\n",
    "    \n",
    "#     if method == 'nearestNeighbour':\n",
    "#         \"\"\"The DataFrame 'nearestNeighbours' must have been computed\n",
    "#         and must be callable.\"\"\"\n",
    "        \n",
    "#         for idx in tqdm(indexesToFill):\n",
    "#             # Get the number of the station and its nearest neighbours\n",
    "#             number_sta = X_agg.loc[idx].number_sta\n",
    "#             nearests = nearestNeighbours.loc[number_sta]\n",
    "\n",
    "#             # Look for a valid value among the neighbours\n",
    "#             for i in range(1, len(nearests)-1):\n",
    "#                 try:\n",
    "#                     value = df.loc[(df['day'] == df.loc[idx].day) & (df['number_sta'] == nearests[i]), columnToFill].to_list()[0]\n",
    "#                     if not np.isnan(value):\n",
    "#                         break\n",
    "#                 except:\n",
    "#                     pass\n",
    "        \n",
    "#             filledColumn.loc[idx] = value\n",
    "        \n",
    "#     else:\n",
    "#         print(f\"'{method}' is not a valid method.\")\n",
    "    \n",
    "#     return filledColumn"
   ]
  },
  {
   "cell_type": "code",
   "execution_count": 7,
   "id": "ea543024-792b-40c8-874b-fbae2b558ed6",
   "metadata": {},
   "outputs": [],
   "source": [
    "from tqdm.notebook import tqdm\n",
    "\n",
    "# We can make a function that for a given\n",
    "def fillNAs(df, columnToFill, method = 'nearestNeighbour'):\n",
    "    \"\"\"Fill the NAs in column 'columnToFill' from DataFrame df with values\n",
    "    found from same day on nearest neighbour with a valid value.\n",
    "    Returns the column with the NAs filled.\"\"\"\n",
    "    \n",
    "    dfReindexed = df.set_index(['day', 'number_sta'])\n",
    "    \n",
    "    filledColumn = df[columnToFill].copy()\n",
    "    indexesToFill = df.loc[pd.isna(df[columnToFill]), :].index\n",
    "    \n",
    "    if method == 'nearestNeighbour':\n",
    "        \"\"\"The DataFrame 'nearestNeighbours' must have been computed\n",
    "        and must be callable.\"\"\"\n",
    "        \n",
    "        for idx in tqdm(indexesToFill):\n",
    "            # Get the number of the station and its nearest neighbours\n",
    "            number_sta = df.loc[idx].number_sta\n",
    "            nearests = nearestNeighbours.loc[number_sta]\n",
    "\n",
    "            # Look for a valid value among the neighbours\n",
    "            for i in range(1, len(nearests)-1):\n",
    "                try:\n",
    "                    value = dfReindexed.loc[(df.loc[idx].day, nearests[i]), columnToFill]\n",
    "                    if not np.isnan(value):\n",
    "                        break\n",
    "                except:\n",
    "                    pass\n",
    "        \n",
    "            filledColumn.loc[idx] = value\n",
    "        \n",
    "    else:\n",
    "        print(f\"'{method}' is not a valid method.\")\n",
    "    \n",
    "    return filledColumn"
   ]
  },
  {
   "cell_type": "code",
   "execution_count": 8,
   "id": "dc1572c6-1253-4d12-a23e-c87e7a3ca9b7",
   "metadata": {},
   "outputs": [
    {
     "data": {
      "application/vnd.jupyter.widget-view+json": {
       "model_id": "d1371c86f3b54b048cc658771d68644c",
       "version_major": 2,
       "version_minor": 0
      },
      "text/plain": [
       "  0%|          | 0/72536 [00:00<?, ?it/s]"
      ]
     },
     "metadata": {},
     "output_type": "display_data"
    }
   ],
   "source": [
    "X_agg_filled = X_agg.copy()\n",
    "X_agg_filled['wind_speed'] = fillNAs(X_agg, 'wind_speed')"
   ]
  },
  {
   "cell_type": "code",
   "execution_count": 9,
   "id": "92228d7d-be17-47a9-9f4c-10d749549930",
   "metadata": {},
   "outputs": [
    {
     "data": {
      "text/html": [
       "<div>\n",
       "<style scoped>\n",
       "    .dataframe tbody tr th:only-of-type {\n",
       "        vertical-align: middle;\n",
       "    }\n",
       "\n",
       "    .dataframe tbody tr th {\n",
       "        vertical-align: top;\n",
       "    }\n",
       "\n",
       "    .dataframe thead th {\n",
       "        text-align: right;\n",
       "    }\n",
       "</style>\n",
       "<table border=\"1\" class=\"dataframe\">\n",
       "  <thead>\n",
       "    <tr style=\"text-align: right;\">\n",
       "      <th></th>\n",
       "      <th>day</th>\n",
       "      <th>number_sta</th>\n",
       "      <th>wind_speed</th>\n",
       "      <th>temperature</th>\n",
       "      <th>dew_point_temperature</th>\n",
       "      <th>humidity</th>\n",
       "      <th>wind_direction</th>\n",
       "      <th>precipitation</th>\n",
       "    </tr>\n",
       "  </thead>\n",
       "  <tbody>\n",
       "    <tr>\n",
       "      <th>0</th>\n",
       "      <td>2016-01-01</td>\n",
       "      <td>14066001</td>\n",
       "      <td>3.695</td>\n",
       "      <td>281.325</td>\n",
       "      <td>278.625</td>\n",
       "      <td>90.15</td>\n",
       "      <td>142.0</td>\n",
       "      <td>0.2</td>\n",
       "    </tr>\n",
       "    <tr>\n",
       "      <th>1</th>\n",
       "      <td>2016-01-01</td>\n",
       "      <td>14126001</td>\n",
       "      <td>NaN</td>\n",
       "      <td>280.725</td>\n",
       "      <td>279.650</td>\n",
       "      <td>99.00</td>\n",
       "      <td>NaN</td>\n",
       "      <td>0.5</td>\n",
       "    </tr>\n",
       "    <tr>\n",
       "      <th>2</th>\n",
       "      <td>2016-01-01</td>\n",
       "      <td>14137001</td>\n",
       "      <td>5.830</td>\n",
       "      <td>281.155</td>\n",
       "      <td>278.905</td>\n",
       "      <td>93.50</td>\n",
       "      <td>140.0</td>\n",
       "      <td>0.0</td>\n",
       "    </tr>\n",
       "    <tr>\n",
       "      <th>3</th>\n",
       "      <td>2016-01-01</td>\n",
       "      <td>14216001</td>\n",
       "      <td>5.010</td>\n",
       "      <td>280.630</td>\n",
       "      <td>278.815</td>\n",
       "      <td>91.25</td>\n",
       "      <td>155.5</td>\n",
       "      <td>0.6</td>\n",
       "    </tr>\n",
       "    <tr>\n",
       "      <th>4</th>\n",
       "      <td>2016-01-01</td>\n",
       "      <td>14296001</td>\n",
       "      <td>NaN</td>\n",
       "      <td>279.495</td>\n",
       "      <td>NaN</td>\n",
       "      <td>NaN</td>\n",
       "      <td>NaN</td>\n",
       "      <td>0.2</td>\n",
       "    </tr>\n",
       "  </tbody>\n",
       "</table>\n",
       "</div>"
      ],
      "text/plain": [
       "          day  number_sta  wind_speed  temperature  dew_point_temperature  \\\n",
       "0  2016-01-01    14066001       3.695      281.325                278.625   \n",
       "1  2016-01-01    14126001         NaN      280.725                279.650   \n",
       "2  2016-01-01    14137001       5.830      281.155                278.905   \n",
       "3  2016-01-01    14216001       5.010      280.630                278.815   \n",
       "4  2016-01-01    14296001         NaN      279.495                    NaN   \n",
       "\n",
       "   humidity  wind_direction  precipitation  \n",
       "0     90.15           142.0            0.2  \n",
       "1     99.00             NaN            0.5  \n",
       "2     93.50           140.0            0.0  \n",
       "3     91.25           155.5            0.6  \n",
       "4       NaN             NaN            0.2  "
      ]
     },
     "execution_count": 9,
     "metadata": {},
     "output_type": "execute_result"
    }
   ],
   "source": [
    "X_agg.head()"
   ]
  },
  {
   "cell_type": "code",
   "execution_count": 10,
   "id": "6948cd45-a2a3-43ea-9a16-77d4509dafa0",
   "metadata": {},
   "outputs": [
    {
     "data": {
      "text/html": [
       "<div>\n",
       "<style scoped>\n",
       "    .dataframe tbody tr th:only-of-type {\n",
       "        vertical-align: middle;\n",
       "    }\n",
       "\n",
       "    .dataframe tbody tr th {\n",
       "        vertical-align: top;\n",
       "    }\n",
       "\n",
       "    .dataframe thead th {\n",
       "        text-align: right;\n",
       "    }\n",
       "</style>\n",
       "<table border=\"1\" class=\"dataframe\">\n",
       "  <thead>\n",
       "    <tr style=\"text-align: right;\">\n",
       "      <th></th>\n",
       "      <th>day</th>\n",
       "      <th>number_sta</th>\n",
       "      <th>wind_speed</th>\n",
       "      <th>temperature</th>\n",
       "      <th>dew_point_temperature</th>\n",
       "      <th>humidity</th>\n",
       "      <th>wind_direction</th>\n",
       "      <th>precipitation</th>\n",
       "    </tr>\n",
       "  </thead>\n",
       "  <tbody>\n",
       "    <tr>\n",
       "      <th>0</th>\n",
       "      <td>2016-01-01</td>\n",
       "      <td>14066001</td>\n",
       "      <td>3.695</td>\n",
       "      <td>281.325</td>\n",
       "      <td>278.625</td>\n",
       "      <td>90.15</td>\n",
       "      <td>142.0</td>\n",
       "      <td>0.2</td>\n",
       "    </tr>\n",
       "    <tr>\n",
       "      <th>1</th>\n",
       "      <td>2016-01-01</td>\n",
       "      <td>14126001</td>\n",
       "      <td>5.230</td>\n",
       "      <td>280.725</td>\n",
       "      <td>279.650</td>\n",
       "      <td>99.00</td>\n",
       "      <td>NaN</td>\n",
       "      <td>0.5</td>\n",
       "    </tr>\n",
       "    <tr>\n",
       "      <th>2</th>\n",
       "      <td>2016-01-01</td>\n",
       "      <td>14137001</td>\n",
       "      <td>5.830</td>\n",
       "      <td>281.155</td>\n",
       "      <td>278.905</td>\n",
       "      <td>93.50</td>\n",
       "      <td>140.0</td>\n",
       "      <td>0.0</td>\n",
       "    </tr>\n",
       "    <tr>\n",
       "      <th>3</th>\n",
       "      <td>2016-01-01</td>\n",
       "      <td>14216001</td>\n",
       "      <td>5.010</td>\n",
       "      <td>280.630</td>\n",
       "      <td>278.815</td>\n",
       "      <td>91.25</td>\n",
       "      <td>155.5</td>\n",
       "      <td>0.6</td>\n",
       "    </tr>\n",
       "    <tr>\n",
       "      <th>4</th>\n",
       "      <td>2016-01-01</td>\n",
       "      <td>14296001</td>\n",
       "      <td>4.200</td>\n",
       "      <td>279.495</td>\n",
       "      <td>NaN</td>\n",
       "      <td>NaN</td>\n",
       "      <td>NaN</td>\n",
       "      <td>0.2</td>\n",
       "    </tr>\n",
       "  </tbody>\n",
       "</table>\n",
       "</div>"
      ],
      "text/plain": [
       "          day  number_sta  wind_speed  temperature  dew_point_temperature  \\\n",
       "0  2016-01-01    14066001       3.695      281.325                278.625   \n",
       "1  2016-01-01    14126001       5.230      280.725                279.650   \n",
       "2  2016-01-01    14137001       5.830      281.155                278.905   \n",
       "3  2016-01-01    14216001       5.010      280.630                278.815   \n",
       "4  2016-01-01    14296001       4.200      279.495                    NaN   \n",
       "\n",
       "   humidity  wind_direction  precipitation  \n",
       "0     90.15           142.0            0.2  \n",
       "1     99.00             NaN            0.5  \n",
       "2     93.50           140.0            0.0  \n",
       "3     91.25           155.5            0.6  \n",
       "4       NaN             NaN            0.2  "
      ]
     },
     "execution_count": 10,
     "metadata": {},
     "output_type": "execute_result"
    }
   ],
   "source": [
    "X_agg_filled.head()"
   ]
  },
  {
   "cell_type": "markdown",
   "id": "d7b91a73-49f8-421a-b04e-ae801af293ab",
   "metadata": {
    "tags": []
   },
   "source": [
    "# Trial with Random Forest"
   ]
  },
  {
   "cell_type": "code",
   "execution_count": null,
   "id": "7bda8093-dd97-4913-9373-995ba6442f0e",
   "metadata": {},
   "outputs": [],
   "source": [
    "from sklearn.model_selection import train_test_split\n",
    "X_train, X_test, y_train, y_test = train_test_split(X_agg, Y['Ground_truth'], test_size = 0.3)"
   ]
  },
  {
   "cell_type": "code",
   "execution_count": null,
   "id": "2053c4ae-b383-41bd-b77f-d0868b65799d",
   "metadata": {},
   "outputs": [],
   "source": [
    "from sklearn.ensemble import RandomForestRegressor\n",
    "rf = RandomForestRegressor(n_estimators = 200)\n",
    "rf.fit(X_train, y_train)"
   ]
  },
  {
   "cell_type": "code",
   "execution_count": null,
   "id": "ba4f5d41-bed3-40bd-b183-afeeb77a64cc",
   "metadata": {},
   "outputs": [],
   "source": [
    "y_predict = rf.predict(X_test)\n",
    "print(f\"Score: {mape(y_predict, y_test)}\")"
   ]
  },
  {
   "cell_type": "markdown",
   "id": "4e7e74d1-edce-4c01-b1d2-c9fc1c126980",
   "metadata": {},
   "source": [
    "# Submission"
   ]
  },
  {
   "cell_type": "code",
   "execution_count": null,
   "id": "954e8e63-61aa-41e7-812f-fbad9ca6be32",
   "metadata": {},
   "outputs": [],
   "source": [
    "X_test = pd.read_csv(path + 'X_station_test.csv')\n",
    "X_test"
   ]
  },
  {
   "cell_type": "code",
   "execution_count": null,
   "id": "ab275cb6-3105-441b-af6f-dc0afb0d0a91",
   "metadata": {},
   "outputs": [],
   "source": []
  }
 ],
 "metadata": {
  "kernelspec": {
   "display_name": "Python 3 (ipykernel)",
   "language": "python",
   "name": "python3"
  },
  "language_info": {
   "codemirror_mode": {
    "name": "ipython",
    "version": 3
   },
   "file_extension": ".py",
   "mimetype": "text/x-python",
   "name": "python",
   "nbconvert_exporter": "python",
   "pygments_lexer": "ipython3",
   "version": "3.9.7"
  }
 },
 "nbformat": 4,
 "nbformat_minor": 5
}
