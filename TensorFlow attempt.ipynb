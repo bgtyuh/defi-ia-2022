{
 "cells": [
  {
   "cell_type": "markdown",
   "id": "88fec2cf-ae56-45ef-9110-6e75f9f0a7e8",
   "metadata": {},
   "source": [
    "# TensorFlow\n",
    "\n",
    "On essaie d'implémenter un RNN, plus spécifiquement un réseau LSTM."
   ]
  },
  {
   "cell_type": "code",
   "execution_count": 1,
   "id": "2bc67089-2e10-454a-b950-024022698513",
   "metadata": {},
   "outputs": [],
   "source": [
    "import pandas as pd\n",
    "import numpy as np\n",
    "import plotly.graph_objects as go\n",
    "import plotly.express as px\n",
    "from sklearn.metrics import mean_absolute_percentage_error as mape # usage : print(mape(pred, observed))\n",
    "\n",
    "import datetime\n",
    "\n",
    "import tensorflow\n",
    "\n",
    "path = 'C:/Users/sebir/Desktop/M2 Toulouse/Défi IA/'"
   ]
  },
  {
   "cell_type": "markdown",
   "id": "360d395d-6130-494c-96da-0ec9f6ab4a88",
   "metadata": {},
   "source": [
    "# Import data"
   ]
  },
  {
   "cell_type": "code",
   "execution_count": 2,
   "id": "d1ae53eb-219b-484c-a6b4-8d2c1c0f9c6b",
   "metadata": {},
   "outputs": [],
   "source": [
    "# Données de localisation\n",
    "coords = pd.read_csv(path + 'stations_coordinates.csv')\n",
    "\n",
    "# Training set, X\n",
    "X_train = pd.read_csv(path + 'X_station_train.csv',\n",
    "                 parse_dates=['date'],\n",
    "                 infer_datetime_format=True)\n",
    "X_train.columns = ['number_sta', 'date', 'wind_speed', 'temperature', 'dew_point_temperature', 'humidity', 'wind_direction', 'precipitation', 'Id']\n",
    "\n",
    "# Training set, Y\n",
    "Y_train = pd.read_csv(path + 'Y_train.csv',\n",
    "                 parse_dates=['date'],\n",
    "                 infer_datetime_format=True)"
   ]
  },
  {
   "cell_type": "code",
   "execution_count": null,
   "id": "5674ecea-e94e-4ee6-9b85-b39c4f59779b",
   "metadata": {},
   "outputs": [],
   "source": []
  }
 ],
 "metadata": {
  "kernelspec": {
   "display_name": "TensorFlowEnv",
   "language": "python",
   "name": "tensorflowenv"
  },
  "language_info": {
   "codemirror_mode": {
    "name": "ipython",
    "version": 3
   },
   "file_extension": ".py",
   "mimetype": "text/x-python",
   "name": "python",
   "nbconvert_exporter": "python",
   "pygments_lexer": "ipython3",
   "version": "3.9.7"
  }
 },
 "nbformat": 4,
 "nbformat_minor": 5
}
