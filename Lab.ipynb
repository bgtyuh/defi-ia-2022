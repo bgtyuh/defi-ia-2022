{
 "cells": [
  {
   "cell_type": "markdown",
   "id": "c56c9f09-e654-42de-9c21-8c680524569e",
   "metadata": {},
   "source": [
    "<center><h1>Kaggle"
   ]
  },
  {
   "cell_type": "code",
   "execution_count": 1,
   "id": "237db658-df92-43ef-b779-940ac77ae89d",
   "metadata": {},
   "outputs": [],
   "source": [
    "import pandas as pd\n",
    "import numpy as np\n",
    "# import matplotlib.pyplot as plt\n",
    "# import plotly.graph_objects as go\n",
    "# import plotly.express as px\n",
    "from sklearn.metrics import mean_absolute_percentage_error as mape # usage : print(mape(pred, observed))\n",
    "\n",
    "import datetime\n",
    "\n",
    "path = 'C:/Users/sebir/Desktop/M2 Toulouse/Défi IA/'"
   ]
  },
  {
   "cell_type": "markdown",
   "id": "98271f11-6ff4-4aee-bd05-277134c6fc7c",
   "metadata": {},
   "source": [
    "# Import data"
   ]
  },
  {
   "cell_type": "code",
   "execution_count": 2,
   "id": "d2533486-de74-4d70-aebf-b4aa5f585068",
   "metadata": {},
   "outputs": [],
   "source": [
    "# Training set, X\n",
    "X = pd.read_csv(path + 'X_station_train.csv',\n",
    "                parse_dates=['date'],\n",
    "                infer_datetime_format=True)\n",
    "X.columns = ['number_sta', 'date', 'wind_speed', 'temperature', 'dew_point_temperature', 'humidity', 'wind_direction', 'precipitation', 'Id']\n",
    "\n",
    "# Training set, Y\n",
    "Y = pd.read_csv(path + 'Y_train.csv',\n",
    "                parse_dates=['date'],\n",
    "                infer_datetime_format=True)"
   ]
  },
  {
   "cell_type": "markdown",
   "id": "2a3dae72-2378-4cba-b0c5-1ee7471f060f",
   "metadata": {},
   "source": [
    "# Preprocess data"
   ]
  },
  {
   "cell_type": "markdown",
   "id": "e5874fad-7fdc-4ec5-a03a-2fcbbe2fa817",
   "metadata": {},
   "source": [
    "We have to group the data by data in order to have something comparable with `Y`"
   ]
  },
  {
   "cell_type": "code",
   "execution_count": 3,
   "id": "a5f73906-a159-476e-8645-1352c286a1b9",
   "metadata": {},
   "outputs": [],
   "source": [
    "X['day'] = X['date'].apply(lambda x: x.date())"
   ]
  },
  {
   "cell_type": "code",
   "execution_count": 4,
   "id": "d51217fe-31fb-42f0-8327-24ae14a391c1",
   "metadata": {},
   "outputs": [],
   "source": [
    "X_agg = X.copy()\n",
    "X_agg = X_agg.groupby(by = ['day', 'number_sta'], as_index = False).agg({\n",
    "    \"number_sta\"            : \"first\",\n",
    "    \"wind_speed\"            : \"median\",\n",
    "    \"temperature\"           : \"median\",\n",
    "    \"dew_point_temperature\" : \"median\",\n",
    "    \"humidity\"              : \"median\",\n",
    "    \"wind_direction\"        : \"median\",\n",
    "    \"precipitation\"         : \"sum\"\n",
    "})"
   ]
  },
  {
   "cell_type": "code",
   "execution_count": null,
   "id": "9b75aedd-9a54-41f7-9f89-100e659c1fd8",
   "metadata": {},
   "outputs": [],
   "source": [
    "X_agg.isna().sum()"
   ]
  },
  {
   "cell_type": "code",
   "execution_count": null,
   "id": "5cc4b5ac-2194-485c-924a-4aeb749ad6e0",
   "metadata": {},
   "outputs": [],
   "source": [
    "Y.isna().sum()"
   ]
  },
  {
   "cell_type": "markdown",
   "id": "0f6c251a-562c-4f0e-884a-1ba623178930",
   "metadata": {},
   "source": [
    "We firstly drop all the NAs."
   ]
  },
  {
   "cell_type": "code",
   "execution_count": 5,
   "id": "2d033058-8afc-4fed-93b7-cde4bce30fd6",
   "metadata": {},
   "outputs": [],
   "source": [
    "X_agg.dropna(inplace = True)\n",
    "Y = Y.loc[X_agg.index]\n",
    "\n",
    "Y.dropna(inplace = True)\n",
    "X_agg = X_agg.loc[Y.index]"
   ]
  },
  {
   "cell_type": "markdown",
   "id": "02207b6f-850c-4b70-adca-c9783a244e6d",
   "metadata": {},
   "source": [
    "Adding the month before deleting the date, since we have this information in `X_test`:"
   ]
  },
  {
   "cell_type": "code",
   "execution_count": 11,
   "id": "7c475ebb-e94b-4cb3-a887-8a1d547ddbf6",
   "metadata": {},
   "outputs": [],
   "source": [
    "X_agg['month'] = X_agg['day'].apply(lambda x: x.month)"
   ]
  },
  {
   "cell_type": "markdown",
   "id": "1ffa57c4-c7be-438a-aefd-010c64ec91d6",
   "metadata": {},
   "source": [
    "We then delete the Id in `Y` which won't be helpful"
   ]
  },
  {
   "cell_type": "code",
   "execution_count": 13,
   "id": "267c832d-f110-4293-8a6c-05d3078b17aa",
   "metadata": {},
   "outputs": [],
   "source": [
    "X_agg.drop(['day'], axis = 1, inplace = True)\n",
    "Y.drop(['date', 'Id'], axis = 1, inplace = True)"
   ]
  },
  {
   "cell_type": "markdown",
   "id": "d7b91a73-49f8-421a-b04e-ae801af293ab",
   "metadata": {},
   "source": [
    "# Trial with Random Forest"
   ]
  },
  {
   "cell_type": "code",
   "execution_count": 32,
   "id": "7bda8093-dd97-4913-9373-995ba6442f0e",
   "metadata": {},
   "outputs": [],
   "source": [
    "from sklearn.model_selection import train_test_split\n",
    "X_train, X_test, y_train, y_test = train_test_split(X_agg, Y['Ground_truth'], test_size = 0.3)"
   ]
  },
  {
   "cell_type": "code",
   "execution_count": 33,
   "id": "2053c4ae-b383-41bd-b77f-d0868b65799d",
   "metadata": {},
   "outputs": [
    {
     "data": {
      "text/plain": [
       "RandomForestRegressor(n_estimators=200)"
      ]
     },
     "execution_count": 33,
     "metadata": {},
     "output_type": "execute_result"
    }
   ],
   "source": [
    "from sklearn.ensemble import RandomForestRegressor\n",
    "rf = RandomForestRegressor(n_estimators = 200)\n",
    "rf.fit(X_train, y_train)"
   ]
  },
  {
   "cell_type": "code",
   "execution_count": 34,
   "id": "ba4f5d41-bed3-40bd-b183-afeeb77a64cc",
   "metadata": {},
   "outputs": [
    {
     "name": "stdout",
     "output_type": "stream",
     "text": [
      "Score: 1.2243040359696433\n"
     ]
    }
   ],
   "source": [
    "y_predict = rf.predict(X_test)\n",
    "print(f\"Score: {mape(y_predict, y_test)}\")"
   ]
  },
  {
   "cell_type": "markdown",
   "id": "1c40e7c7-c8e8-4be0-80a8-641168c32461",
   "metadata": {},
   "source": [
    "We can try to first perform a scaler before doing the data:"
   ]
  },
  {
   "cell_type": "code",
   "execution_count": 35,
   "id": "e7dd515d-823c-4976-bb42-63d358a2be24",
   "metadata": {},
   "outputs": [],
   "source": [
    "from sklearn.preprocessing import scale\n",
    "X_scaled = scale(X_agg.drop('number_sta', axis = 1)) # centralisation et normalisation\n",
    "X_scaled = pd.DataFrame(X_scaled, columns = X_agg.drop('number_sta', axis = 1).columns)\n",
    "X_scaled['number_sta'] = X_agg['number_sta'].to_list()"
   ]
  },
  {
   "cell_type": "code",
   "execution_count": 36,
   "id": "e711afca-1979-48b7-9c79-936d6baf10df",
   "metadata": {},
   "outputs": [
    {
     "name": "stdout",
     "output_type": "stream",
     "text": [
      "Score: 1.2104502225985723\n"
     ]
    }
   ],
   "source": [
    "X_train, X_test, y_train, y_test = train_test_split(X_scaled, Y['Ground_truth'], test_size = 0.3)\n",
    "rf_scaled = RandomForestRegressor(n_estimators = 200)\n",
    "rf_scaled.fit(X_train, y_train)\n",
    "y_predict = rf_scaled.predict(X_test)\n",
    "print(f\"Score: {mape(y_predict, y_test)}\")"
   ]
  },
  {
   "cell_type": "markdown",
   "id": "4287279c-e9da-402c-8636-9ae692abbe01",
   "metadata": {},
   "source": [
    "We can try to fit and learn several times with different parameters to see if it gives better results. Things to try:\n",
    "* whether scaling gives better result or not (perform a few ones for scaled and non-scaled data, then see distribution). We can also fit the models on the same scaled and non-scaled dataset, using `random_state = xx` of `train_test_split`, to compare.\n",
    "* the importance of `n_estimators`"
   ]
  },
  {
   "cell_type": "code",
   "execution_count": 50,
   "id": "2fc6c6a5-875b-4cf6-8dbc-cf54a6f3980e",
   "metadata": {},
   "outputs": [
    {
     "data": {
      "application/vnd.jupyter.widget-view+json": {
       "model_id": "7b8e407984d1461b82184fc81c204d73",
       "version_major": 2,
       "version_minor": 0
      },
      "text/plain": [
       "  0%|          | 0/15 [00:00<?, ?it/s]"
      ]
     },
     "metadata": {},
     "output_type": "display_data"
    },
    {
     "data": {
      "application/vnd.jupyter.widget-view+json": {
       "model_id": "d335d652375448a7abd175fe17c98308",
       "version_major": 2,
       "version_minor": 0
      },
      "text/plain": [
       "  0%|          | 0/15 [00:00<?, ?it/s]"
      ]
     },
     "metadata": {},
     "output_type": "display_data"
    }
   ],
   "source": [
    "from sklearn.model_selection import train_test_split\n",
    "from sklearn.ensemble import RandomForestRegressor\n",
    "from sklearn.preprocessing import scale\n",
    "\n",
    "from tqdm.notebook import trange\n",
    "\n",
    "# Performing the scaling once\n",
    "X_scaled = scale(X_agg.drop('number_sta', axis = 1)) # centralisation et normalisation\n",
    "X_scaled = pd.DataFrame(X_scaled, columns = X_agg.drop('number_sta', axis = 1).columns)\n",
    "X_scaled['number_sta'] = X_agg['number_sta'].to_list()\n",
    "\n",
    "\n",
    "nbTrials = 15\n",
    "\n",
    "# Without scaling\n",
    "scores_without_scaling = []\n",
    "for i in trange(nbTrials):\n",
    "    X_train, X_test, y_train, y_test = train_test_split(X_agg, Y['Ground_truth'], test_size = 0.3)\n",
    "    rf = RandomForestRegressor()\n",
    "    rf.fit(X_train, y_train)\n",
    "    y_predict = rf.predict(X_test)\n",
    "    scores_without_scaling.append(mape(y_predict, y_test))\n",
    "\n",
    "# With scaling\n",
    "scores_with_scaling = []\n",
    "for i in trange(nbTrials):\n",
    "    X_train, X_test, y_train, y_test = train_test_split(X_scaled, Y['Ground_truth'], test_size = 0.3)\n",
    "    rf_scaled = RandomForestRegressor()\n",
    "    rf_scaled.fit(X_train, y_train)\n",
    "    y_predict = rf_scaled.predict(X_test)\n",
    "    scores_with_scaling.append(mape(y_predict, y_test))"
   ]
  },
  {
   "cell_type": "code",
   "execution_count": 51,
   "id": "750f1b72-9a70-488e-81a8-00bbcf1cdd73",
   "metadata": {},
   "outputs": [
    {
     "name": "stdout",
     "output_type": "stream",
     "text": [
      "Without scaler:\n",
      "6/15 converged\n",
      "Mean of MAPE score = 1.2236087599158108\n",
      "With scaler:\n",
      "8/15 converged\n",
      "Mean of MAPE score = 1.2322435844572048\n"
     ]
    }
   ],
   "source": [
    "print(\"Without scaler:\")\n",
    "print(f\"{(np.array(scores_without_scaling) < 10).sum()}/15 converged\")\n",
    "print(f\"Mean of MAPE score = {np.array(scores_without_scaling)[np.array(scores_without_scaling) < 10].mean()}\")\n",
    "\n",
    "print(\"With scaler:\")\n",
    "print(f\"{(np.array(scores_with_scaling) < 10).sum()}/15 converged\")\n",
    "print(f\"Mean of MAPE score = {np.array(scores_with_scaling)[np.array(scores_with_scaling) < 10].mean()}\")\n",
    "\n",
    "# print(\"Mean with scaler:\")\n",
    "# np.array(scores_without_scaling)[np.array(scores_without_scaling) < 10].mean()"
   ]
  },
  {
   "cell_type": "code",
   "execution_count": 64,
   "id": "a051354b-b9e6-47f1-8550-50cf5dcdaba2",
   "metadata": {},
   "outputs": [
    {
     "data": {
      "application/vnd.jupyter.widget-view+json": {
       "model_id": "e7c214d8f38f4fa9940bb6466a38999b",
       "version_major": 2,
       "version_minor": 0
      },
      "text/plain": [
       "  0%|          | 0/17 [00:00<?, ?it/s]"
      ]
     },
     "metadata": {},
     "output_type": "display_data"
    },
    {
     "name": "stdout",
     "output_type": "stream",
     "text": [
      "With 100 trees:\n",
      "Score was > 1000\n",
      "Score was > 1000\n",
      "Score was > 1000\n",
      "Converged\n",
      "With 112 trees:\n",
      "Score was > 1000\n",
      "Converged\n",
      "With 125 trees:\n",
      "Converged\n",
      "With 137 trees:\n",
      "Converged\n",
      "With 150 trees:\n",
      "Score was > 1000\n",
      "Converged\n",
      "With 162 trees:\n",
      "Converged\n",
      "With 175 trees:\n",
      "Converged\n",
      "With 187 trees:\n",
      "Converged\n",
      "With 200 trees:\n",
      "Converged\n",
      "With 212 trees:\n",
      "Converged\n",
      "With 225 trees:\n",
      "Converged\n",
      "With 237 trees:\n",
      "Score was > 1000\n",
      "Converged\n",
      "With 250 trees:\n",
      "Converged\n",
      "With 262 trees:\n",
      "Score was > 1000\n",
      "Converged\n",
      "With 275 trees:\n",
      "Converged\n",
      "With 287 trees:\n",
      "Converged\n",
      "With 300 trees:\n",
      "Converged\n"
     ]
    }
   ],
   "source": [
    "from tqdm.notebook import tqdm\n",
    "\n",
    "# Performing the scaling once\n",
    "X_scaled = scale(X_agg.drop('number_sta', axis = 1)) # centralisation et normalisation\n",
    "X_scaled = pd.DataFrame(X_scaled, columns = X_agg.drop('number_sta', axis = 1).columns)\n",
    "X_scaled['number_sta'] = X_agg['number_sta'].to_list()\n",
    "\n",
    "\n",
    "n_estimators = [100, 112, 125, 137, 150, 162, 175, 187, 200, 212, 225, 237, 250, 262, 275, 287, 300]\n",
    "\n",
    "# With scaling\n",
    "scores_estimators = []\n",
    "for n_estimator in tqdm(n_estimators):\n",
    "    print(f\"With {n_estimator} trees:\")\n",
    "    mean = []\n",
    "        \n",
    "    X_train, X_test, y_train, y_test = train_test_split(X_scaled, Y['Ground_truth'], test_size = 0.3)\n",
    "    rf_scaled = RandomForestRegressor(n_estimators = n_estimator)\n",
    "    rf_scaled.fit(X_train, y_train)\n",
    "    y_predict = rf_scaled.predict(X_test)\n",
    "    score = mape(y_predict, y_test)\n",
    "\n",
    "    while score > 1000:\n",
    "        print(\"Score was > 1000\")\n",
    "        # If diverged, run again until we get convergence\n",
    "        X_train, X_test, y_train, y_test = train_test_split(X_scaled, Y['Ground_truth'], test_size = 0.3)\n",
    "        rf_scaled = RandomForestRegressor(n_estimators = n_estimator)\n",
    "        rf_scaled.fit(X_train, y_train)\n",
    "        y_predict = rf_scaled.predict(X_test)\n",
    "        score = mape(y_predict, y_test)\n",
    "            \n",
    "    print(\"Converged\")\n",
    "    \n",
    "    scores_estimators.append(score)"
   ]
  },
  {
   "cell_type": "code",
   "execution_count": 65,
   "id": "b92d8453-23f8-424d-87b3-5ad91967ea1e",
   "metadata": {},
   "outputs": [
    {
     "data": {
      "text/plain": [
       "[<matplotlib.lines.Line2D at 0x274aeaece80>]"
      ]
     },
     "execution_count": 65,
     "metadata": {},
     "output_type": "execute_result"
    },
    {
     "data": {
      "image/png": "[encoded data removed]",
      "text/plain": [
       "<Figure size 432x288 with 1 Axes>"
      ]
     },
     "metadata": {
      "needs_background": "light"
     },
     "output_type": "display_data"
    }
   ],
   "source": [
    "import matplotlib.pyplot as plt\n",
    "plt.plot(n_estimators, scores_estimators)"
   ]
  },
  {
   "cell_type": "code",
   "execution_count": null,
   "id": "8847796a-d04c-4f3c-b66b-6f5a5185afe8",
   "metadata": {},
   "outputs": [],
   "source": []
  },
  {
   "cell_type": "markdown",
   "id": "82c42271-dbee-4cc4-8c2e-2c61bb581b10",
   "metadata": {},
   "source": [
    "# Trial with XGBRegressor"
   ]
  },
  {
   "cell_type": "code",
   "execution_count": null,
   "id": "33e19df9-1801-4ae1-a266-c43d75075403",
   "metadata": {},
   "outputs": [],
   "source": [
    "from sklearn.model_selection import train_test_split\n",
    "X_train, X_test, y_train, y_test = train_test_split(X_agg, Y['Ground_truth'], test_size = 0.3)\n",
    "from sklearn.ensemble import GradientBoostingRegressor\n",
    "rf = GradientBoostingRegressor()\n",
    "rf.fit(X_train, y_train)\n",
    "y_predict = rf.predict(X_test)\n",
    "print(f\"Score: {mape(y_predict, y_test)}\")"
   ]
  },
  {
   "cell_type": "markdown",
   "id": "bc8e8591-752b-4d59-b5ee-da4fc81d6f94",
   "metadata": {},
   "source": [
    "# Fill in the gaps\n",
    "We have to find a way to fill the gaps in the data. Suggested ways:\n",
    "* fill the mean or the median, e.g., for a given variable\n",
    "    * take the general median of the whole training dataset\n",
    "    * take the median of the month\n",
    "* take the value from the nearest neighbour\n",
    "* interpolate the value from nearest neighbours"
   ]
  },
  {
   "cell_type": "code",
   "execution_count": 31,
   "id": "276cb936-e1d7-4fe9-ac30-56dca5c1b2cc",
   "metadata": {},
   "outputs": [
    {
     "data": {
      "text/html": [
       "<div>\n",
       "<style scoped>\n",
       "    .dataframe tbody tr th:only-of-type {\n",
       "        vertical-align: middle;\n",
       "    }\n",
       "\n",
       "    .dataframe tbody tr th {\n",
       "        vertical-align: top;\n",
       "    }\n",
       "\n",
       "    .dataframe thead th {\n",
       "        text-align: right;\n",
       "    }\n",
       "</style>\n",
       "<table border=\"1\" class=\"dataframe\">\n",
       "  <thead>\n",
       "    <tr style=\"text-align: right;\">\n",
       "      <th></th>\n",
       "      <th>number_sta</th>\n",
       "      <th>lat</th>\n",
       "      <th>lon</th>\n",
       "      <th>height_sta</th>\n",
       "    </tr>\n",
       "  </thead>\n",
       "  <tbody>\n",
       "    <tr>\n",
       "      <th>0</th>\n",
       "      <td>86118001</td>\n",
       "      <td>46.477</td>\n",
       "      <td>0.985</td>\n",
       "      <td>120.0</td>\n",
       "    </tr>\n",
       "    <tr>\n",
       "      <th>1</th>\n",
       "      <td>86149001</td>\n",
       "      <td>46.917</td>\n",
       "      <td>0.025</td>\n",
       "      <td>60.0</td>\n",
       "    </tr>\n",
       "    <tr>\n",
       "      <th>2</th>\n",
       "      <td>56081003</td>\n",
       "      <td>48.050</td>\n",
       "      <td>-3.660</td>\n",
       "      <td>165.0</td>\n",
       "    </tr>\n",
       "    <tr>\n",
       "      <th>3</th>\n",
       "      <td>53215001</td>\n",
       "      <td>47.790</td>\n",
       "      <td>-0.710</td>\n",
       "      <td>63.0</td>\n",
       "    </tr>\n",
       "    <tr>\n",
       "      <th>4</th>\n",
       "      <td>22135001</td>\n",
       "      <td>48.550</td>\n",
       "      <td>-3.380</td>\n",
       "      <td>148.0</td>\n",
       "    </tr>\n",
       "    <tr>\n",
       "      <th>...</th>\n",
       "      <td>...</td>\n",
       "      <td>...</td>\n",
       "      <td>...</td>\n",
       "      <td>...</td>\n",
       "    </tr>\n",
       "    <tr>\n",
       "      <th>320</th>\n",
       "      <td>86137003</td>\n",
       "      <td>47.035</td>\n",
       "      <td>0.098</td>\n",
       "      <td>96.0</td>\n",
       "    </tr>\n",
       "    <tr>\n",
       "      <th>321</th>\n",
       "      <td>86165005</td>\n",
       "      <td>46.412</td>\n",
       "      <td>0.841</td>\n",
       "      <td>153.0</td>\n",
       "    </tr>\n",
       "    <tr>\n",
       "      <th>322</th>\n",
       "      <td>86273001</td>\n",
       "      <td>46.464</td>\n",
       "      <td>1.042</td>\n",
       "      <td>121.0</td>\n",
       "    </tr>\n",
       "    <tr>\n",
       "      <th>323</th>\n",
       "      <td>91200002</td>\n",
       "      <td>48.526</td>\n",
       "      <td>1.993</td>\n",
       "      <td>116.0</td>\n",
       "    </tr>\n",
       "    <tr>\n",
       "      <th>324</th>\n",
       "      <td>95690001</td>\n",
       "      <td>49.108</td>\n",
       "      <td>1.831</td>\n",
       "      <td>126.0</td>\n",
       "    </tr>\n",
       "  </tbody>\n",
       "</table>\n",
       "<p>325 rows × 4 columns</p>\n",
       "</div>"
      ],
      "text/plain": [
       "     number_sta     lat    lon  height_sta\n",
       "0      86118001  46.477  0.985       120.0\n",
       "1      86149001  46.917  0.025        60.0\n",
       "2      56081003  48.050 -3.660       165.0\n",
       "3      53215001  47.790 -0.710        63.0\n",
       "4      22135001  48.550 -3.380       148.0\n",
       "..          ...     ...    ...         ...\n",
       "320    86137003  47.035  0.098        96.0\n",
       "321    86165005  46.412  0.841       153.0\n",
       "322    86273001  46.464  1.042       121.0\n",
       "323    91200002  48.526  1.993       116.0\n",
       "324    95690001  49.108  1.831       126.0\n",
       "\n",
       "[325 rows x 4 columns]"
      ]
     },
     "metadata": {},
     "output_type": "display_data"
    },
    {
     "data": {
      "image/png": "[encoded data removed]",
      "text/plain": [
       "<Figure size 432x288 with 1 Axes>"
      ]
     },
     "metadata": {
      "needs_background": "light"
     },
     "output_type": "display_data"
    }
   ],
   "source": [
    "stations = pd.read_csv(path + 'stations_coordinates.csv')\n",
    "display(stations)\n",
    "stations.plot(x = 'lon', y = 'lat', kind = 'scatter');"
   ]
  },
  {
   "cell_type": "code",
   "execution_count": null,
   "id": "37ca5af4-8673-4928-9297-992926eeaedb",
   "metadata": {},
   "outputs": [],
   "source": []
  },
  {
   "cell_type": "markdown",
   "id": "4e7e74d1-edce-4c01-b1d2-c9fc1c126980",
   "metadata": {},
   "source": [
    "# Submission"
   ]
  },
  {
   "cell_type": "code",
   "execution_count": 7,
   "id": "954e8e63-61aa-41e7-812f-fbad9ca6be32",
   "metadata": {},
   "outputs": [
    {
     "data": {
      "text/html": [
       "<div>\n",
       "<style scoped>\n",
       "    .dataframe tbody tr th:only-of-type {\n",
       "        vertical-align: middle;\n",
       "    }\n",
       "\n",
       "    .dataframe tbody tr th {\n",
       "        vertical-align: top;\n",
       "    }\n",
       "\n",
       "    .dataframe thead th {\n",
       "        text-align: right;\n",
       "    }\n",
       "</style>\n",
       "<table border=\"1\" class=\"dataframe\">\n",
       "  <thead>\n",
       "    <tr style=\"text-align: right;\">\n",
       "      <th></th>\n",
       "      <th>dd</th>\n",
       "      <th>hu</th>\n",
       "      <th>td</th>\n",
       "      <th>t</th>\n",
       "      <th>ff</th>\n",
       "      <th>precip</th>\n",
       "      <th>month</th>\n",
       "      <th>Id</th>\n",
       "    </tr>\n",
       "  </thead>\n",
       "  <tbody>\n",
       "    <tr>\n",
       "      <th>0</th>\n",
       "      <td>NaN</td>\n",
       "      <td>NaN</td>\n",
       "      <td>NaN</td>\n",
       "      <td>278.35</td>\n",
       "      <td>NaN</td>\n",
       "      <td>NaN</td>\n",
       "      <td>12</td>\n",
       "      <td>14047002_277_4</td>\n",
       "    </tr>\n",
       "    <tr>\n",
       "      <th>1</th>\n",
       "      <td>NaN</td>\n",
       "      <td>NaN</td>\n",
       "      <td>NaN</td>\n",
       "      <td>278.40</td>\n",
       "      <td>NaN</td>\n",
       "      <td>0.0</td>\n",
       "      <td>12</td>\n",
       "      <td>14047002_277_5</td>\n",
       "    </tr>\n",
       "    <tr>\n",
       "      <th>2</th>\n",
       "      <td>NaN</td>\n",
       "      <td>NaN</td>\n",
       "      <td>NaN</td>\n",
       "      <td>279.01</td>\n",
       "      <td>NaN</td>\n",
       "      <td>0.0</td>\n",
       "      <td>12</td>\n",
       "      <td>14047002_277_6</td>\n",
       "    </tr>\n",
       "    <tr>\n",
       "      <th>3</th>\n",
       "      <td>NaN</td>\n",
       "      <td>NaN</td>\n",
       "      <td>NaN</td>\n",
       "      <td>279.66</td>\n",
       "      <td>NaN</td>\n",
       "      <td>0.0</td>\n",
       "      <td>12</td>\n",
       "      <td>14047002_277_7</td>\n",
       "    </tr>\n",
       "    <tr>\n",
       "      <th>4</th>\n",
       "      <td>NaN</td>\n",
       "      <td>NaN</td>\n",
       "      <td>NaN</td>\n",
       "      <td>279.99</td>\n",
       "      <td>NaN</td>\n",
       "      <td>0.0</td>\n",
       "      <td>12</td>\n",
       "      <td>14047002_277_8</td>\n",
       "    </tr>\n",
       "    <tr>\n",
       "      <th>...</th>\n",
       "      <td>...</td>\n",
       "      <td>...</td>\n",
       "      <td>...</td>\n",
       "      <td>...</td>\n",
       "      <td>...</td>\n",
       "      <td>...</td>\n",
       "      <td>...</td>\n",
       "      <td>...</td>\n",
       "    </tr>\n",
       "    <tr>\n",
       "      <th>2304797</th>\n",
       "      <td>190.0</td>\n",
       "      <td>82.8</td>\n",
       "      <td>277.00</td>\n",
       "      <td>279.74</td>\n",
       "      <td>10.62</td>\n",
       "      <td>0.0</td>\n",
       "      <td>12</td>\n",
       "      <td>95690001_176_19</td>\n",
       "    </tr>\n",
       "    <tr>\n",
       "      <th>2304798</th>\n",
       "      <td>195.0</td>\n",
       "      <td>84.2</td>\n",
       "      <td>277.44</td>\n",
       "      <td>279.93</td>\n",
       "      <td>11.86</td>\n",
       "      <td>0.0</td>\n",
       "      <td>12</td>\n",
       "      <td>95690001_176_20</td>\n",
       "    </tr>\n",
       "    <tr>\n",
       "      <th>2304799</th>\n",
       "      <td>199.0</td>\n",
       "      <td>85.7</td>\n",
       "      <td>277.95</td>\n",
       "      <td>280.21</td>\n",
       "      <td>11.77</td>\n",
       "      <td>0.0</td>\n",
       "      <td>12</td>\n",
       "      <td>95690001_176_21</td>\n",
       "    </tr>\n",
       "    <tr>\n",
       "      <th>2304800</th>\n",
       "      <td>198.0</td>\n",
       "      <td>85.3</td>\n",
       "      <td>278.25</td>\n",
       "      <td>280.58</td>\n",
       "      <td>10.16</td>\n",
       "      <td>0.0</td>\n",
       "      <td>12</td>\n",
       "      <td>95690001_176_22</td>\n",
       "    </tr>\n",
       "    <tr>\n",
       "      <th>2304801</th>\n",
       "      <td>190.0</td>\n",
       "      <td>86.0</td>\n",
       "      <td>278.60</td>\n",
       "      <td>280.80</td>\n",
       "      <td>9.50</td>\n",
       "      <td>0.0</td>\n",
       "      <td>12</td>\n",
       "      <td>95690001_176_23</td>\n",
       "    </tr>\n",
       "  </tbody>\n",
       "</table>\n",
       "<p>2304802 rows × 8 columns</p>\n",
       "</div>"
      ],
      "text/plain": [
       "            dd    hu      td       t     ff  precip  month               Id\n",
       "0          NaN   NaN     NaN  278.35    NaN     NaN     12   14047002_277_4\n",
       "1          NaN   NaN     NaN  278.40    NaN     0.0     12   14047002_277_5\n",
       "2          NaN   NaN     NaN  279.01    NaN     0.0     12   14047002_277_6\n",
       "3          NaN   NaN     NaN  279.66    NaN     0.0     12   14047002_277_7\n",
       "4          NaN   NaN     NaN  279.99    NaN     0.0     12   14047002_277_8\n",
       "...        ...   ...     ...     ...    ...     ...    ...              ...\n",
       "2304797  190.0  82.8  277.00  279.74  10.62     0.0     12  95690001_176_19\n",
       "2304798  195.0  84.2  277.44  279.93  11.86     0.0     12  95690001_176_20\n",
       "2304799  199.0  85.7  277.95  280.21  11.77     0.0     12  95690001_176_21\n",
       "2304800  198.0  85.3  278.25  280.58  10.16     0.0     12  95690001_176_22\n",
       "2304801  190.0  86.0  278.60  280.80   9.50     0.0     12  95690001_176_23\n",
       "\n",
       "[2304802 rows x 8 columns]"
      ]
     },
     "execution_count": 7,
     "metadata": {},
     "output_type": "execute_result"
    }
   ],
   "source": [
    "X_test = pd.read_csv(path + 'X_station_test.csv')\n",
    "X_test"
   ]
  },
  {
   "cell_type": "code",
   "execution_count": null,
   "id": "ab275cb6-3105-441b-af6f-dc0afb0d0a91",
   "metadata": {},
   "outputs": [],
   "source": []
  }
 ],
 "metadata": {
  "kernelspec": {
   "display_name": "Python 3 (ipykernel)",
   "language": "python",
   "name": "python3"
  },
  "language_info": {
   "codemirror_mode": {
    "name": "ipython",
    "version": 3
   },
   "file_extension": ".py",
   "mimetype": "text/x-python",
   "name": "python",
   "nbconvert_exporter": "python",
   "pygments_lexer": "ipython3",
   "version": "3.9.7"
  }
 },
 "nbformat": 4,
 "nbformat_minor": 5
}
