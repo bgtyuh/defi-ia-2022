{
 "cells": [
  {
   "cell_type": "markdown",
   "id": "dominican-territory",
   "metadata": {
    "toc": true
   },
   "source": [
    "<h1>Table of Contents<span class=\"tocSkip\"></span></h1>\n",
    "<div class=\"toc\"><ul class=\"toc-item\"></ul></div>"
   ]
  },
  {
   "cell_type": "code",
   "execution_count": 19,
   "id": "great-lafayette",
   "metadata": {
    "ExecuteTime": {
     "end_time": "2022-01-08T20:35:19.317207Z",
     "start_time": "2022-01-08T20:35:15.822795Z"
    }
   },
   "outputs": [],
   "source": [
    "import pandas as pd\n",
    "import numpy as np\n",
    "import csv\n",
    "import missingno as msno\n",
    "from pyspark.sql import SparkSession, Window\n",
    "import pyspark.sql.functions as F\n",
    "\n",
    "from sklearn.preprocessing import StandardScaler\n",
    "from sklearn.model_selection import train_test_split\n",
    "from sklearn.metrics import mean_absolute_percentage_error as mape\n",
    "\n",
    "from xgboost import XGBRegressor\n",
    "from sklearn.ensemble import RandomForestRegressor"
   ]
  },
  {
   "cell_type": "code",
   "execution_count": 7,
   "id": "equivalent-formation",
   "metadata": {
    "ExecuteTime": {
     "end_time": "2022-01-08T20:31:00.770588Z",
     "start_time": "2022-01-08T20:30:58.286267Z"
    }
   },
   "outputs": [
    {
     "name": "stdout",
     "output_type": "stream",
     "text": [
      "root\n",
      " |-- number_sta: integer (nullable = true)\n",
      " |-- date: string (nullable = true)\n",
      " |-- wind_speed: double (nullable = true)\n",
      " |-- temperature: double (nullable = true)\n",
      " |-- dew_point_temperature: double (nullable = true)\n",
      " |-- humidity: double (nullable = true)\n",
      " |-- wind_direction: double (nullable = true)\n",
      " |-- precipitation: double (nullable = true)\n",
      " |-- Id: string (nullable = true)\n",
      "\n"
     ]
    }
   ],
   "source": [
    "spark = SparkSession.builder.appName('defi-ia-2022').getOrCreate()\n",
    "df = spark.read.csv(\"fichier de seb.csv\", header=True, inferSchema=True)\n",
    "df.printSchema()"
   ]
  },
  {
   "cell_type": "code",
   "execution_count": 9,
   "id": "imported-saying",
   "metadata": {
    "ExecuteTime": {
     "end_time": "2022-01-08T20:31:16.247056Z",
     "start_time": "2022-01-08T20:31:16.230071Z"
    }
   },
   "outputs": [],
   "source": [
    "df = df.selectExpr(\"number_sta\", \"date\", \"wind_speed as ff\",\n",
    "                   \"temperature as t\", \"dew_point_temperature as td\", \"humidity as hu\",\n",
    "                   \"wind_direction as dd\", \"precipitation as precip\", \"Id\")"
   ]
  },
  {
   "cell_type": "code",
   "execution_count": 10,
   "id": "genuine-forth",
   "metadata": {
    "ExecuteTime": {
     "end_time": "2022-01-08T20:31:22.375293Z",
     "start_time": "2022-01-08T20:31:22.094469Z"
    }
   },
   "outputs": [],
   "source": [
    "w1 = Window.partitionBy(\"number_sta\")\n",
    "\n",
    "df = df.withColumn(\"max_t\", F.max(\"t\").over(w1))\n",
    "df = df.withColumn(\"min_t\", F.min(\"t\").over(w1)) \n",
    "df = df.withColumn(\"max_ff\", F.max(\"ff\").over(w1)) \n",
    "df = df.withColumn(\"min_ff\", F.min(\"ff\").over(w1)) \n",
    "df = df.withColumn(\"max_td\", F.max(\"td\").over(w1)) \n",
    "df = df.withColumn(\"min_td\", F.min(\"td\").over(w1)) \n",
    "df = df.withColumn(\"max_hu\", F.max(\"hu\").over(w1)) \n",
    "df = df.withColumn(\"min_hu\", F.min(\"hu\").over(w1)) \n",
    "df = df.withColumn(\"mean_dd\", F.mean(\"dd\").over(w1)) \n",
    "df = df.withColumn(\"max_precip\", F.max(\"precip\").over(w1)) \n",
    "df = df.withColumn(\"min_precip\", F.min(\"precip\").over(w1))"
   ]
  },
  {
   "cell_type": "code",
   "execution_count": 15,
   "id": "expired-october",
   "metadata": {
    "ExecuteTime": {
     "end_time": "2022-01-08T20:32:30.113262Z",
     "start_time": "2022-01-08T20:32:27.776431Z"
    }
   },
   "outputs": [
    {
     "data": {
      "text/html": [
       "<div>\n",
       "<style scoped>\n",
       "    .dataframe tbody tr th:only-of-type {\n",
       "        vertical-align: middle;\n",
       "    }\n",
       "\n",
       "    .dataframe tbody tr th {\n",
       "        vertical-align: top;\n",
       "    }\n",
       "\n",
       "    .dataframe thead th {\n",
       "        text-align: right;\n",
       "    }\n",
       "</style>\n",
       "<table border=\"1\" class=\"dataframe\">\n",
       "  <thead>\n",
       "    <tr style=\"text-align: right;\">\n",
       "      <th></th>\n",
       "      <th>number_sta</th>\n",
       "      <th>date</th>\n",
       "      <th>ff</th>\n",
       "      <th>t</th>\n",
       "      <th>td</th>\n",
       "      <th>hu</th>\n",
       "      <th>dd</th>\n",
       "      <th>precip</th>\n",
       "      <th>Id</th>\n",
       "      <th>max_t</th>\n",
       "      <th>min_t</th>\n",
       "      <th>max_ff</th>\n",
       "      <th>min_ff</th>\n",
       "      <th>max_td</th>\n",
       "      <th>min_td</th>\n",
       "      <th>max_hu</th>\n",
       "      <th>min_hu</th>\n",
       "      <th>mean_dd</th>\n",
       "      <th>max_precip</th>\n",
       "      <th>min_precip</th>\n",
       "    </tr>\n",
       "  </thead>\n",
       "  <tbody>\n",
       "    <tr>\n",
       "      <th>0</th>\n",
       "      <td>14372001</td>\n",
       "      <td>2016-01-01 00:00:00</td>\n",
       "      <td>3.68</td>\n",
       "      <td>279.20</td>\n",
       "      <td>277.79</td>\n",
       "      <td>90.8</td>\n",
       "      <td>230.0</td>\n",
       "      <td>0.0</td>\n",
       "      <td>14372001_0_0</td>\n",
       "      <td>307.48</td>\n",
       "      <td>267.94</td>\n",
       "      <td>15.61</td>\n",
       "      <td>0.0</td>\n",
       "      <td>293.5</td>\n",
       "      <td>261.83</td>\n",
       "      <td>100.0</td>\n",
       "      <td>24.9</td>\n",
       "      <td>204.953012</td>\n",
       "      <td>13.9</td>\n",
       "      <td>0.0</td>\n",
       "    </tr>\n",
       "    <tr>\n",
       "      <th>1</th>\n",
       "      <td>14372001</td>\n",
       "      <td>2016-01-01 01:00:00</td>\n",
       "      <td>2.99</td>\n",
       "      <td>278.86</td>\n",
       "      <td>277.57</td>\n",
       "      <td>91.5</td>\n",
       "      <td>221.0</td>\n",
       "      <td>0.0</td>\n",
       "      <td>14372001_0_1</td>\n",
       "      <td>307.48</td>\n",
       "      <td>267.94</td>\n",
       "      <td>15.61</td>\n",
       "      <td>0.0</td>\n",
       "      <td>293.5</td>\n",
       "      <td>261.83</td>\n",
       "      <td>100.0</td>\n",
       "      <td>24.9</td>\n",
       "      <td>204.953012</td>\n",
       "      <td>13.9</td>\n",
       "      <td>0.0</td>\n",
       "    </tr>\n",
       "    <tr>\n",
       "      <th>2</th>\n",
       "      <td>14372001</td>\n",
       "      <td>2016-01-01 02:00:00</td>\n",
       "      <td>2.06</td>\n",
       "      <td>278.26</td>\n",
       "      <td>277.58</td>\n",
       "      <td>95.4</td>\n",
       "      <td>204.0</td>\n",
       "      <td>0.0</td>\n",
       "      <td>14372001_0_2</td>\n",
       "      <td>307.48</td>\n",
       "      <td>267.94</td>\n",
       "      <td>15.61</td>\n",
       "      <td>0.0</td>\n",
       "      <td>293.5</td>\n",
       "      <td>261.83</td>\n",
       "      <td>100.0</td>\n",
       "      <td>24.9</td>\n",
       "      <td>204.953012</td>\n",
       "      <td>13.9</td>\n",
       "      <td>0.0</td>\n",
       "    </tr>\n",
       "    <tr>\n",
       "      <th>3</th>\n",
       "      <td>14372001</td>\n",
       "      <td>2016-01-01 03:00:00</td>\n",
       "      <td>2.14</td>\n",
       "      <td>276.89</td>\n",
       "      <td>276.43</td>\n",
       "      <td>96.7</td>\n",
       "      <td>197.0</td>\n",
       "      <td>0.0</td>\n",
       "      <td>14372001_0_3</td>\n",
       "      <td>307.48</td>\n",
       "      <td>267.94</td>\n",
       "      <td>15.61</td>\n",
       "      <td>0.0</td>\n",
       "      <td>293.5</td>\n",
       "      <td>261.83</td>\n",
       "      <td>100.0</td>\n",
       "      <td>24.9</td>\n",
       "      <td>204.953012</td>\n",
       "      <td>13.9</td>\n",
       "      <td>0.0</td>\n",
       "    </tr>\n",
       "    <tr>\n",
       "      <th>4</th>\n",
       "      <td>14372001</td>\n",
       "      <td>2016-01-01 04:00:00</td>\n",
       "      <td>2.10</td>\n",
       "      <td>276.91</td>\n",
       "      <td>276.75</td>\n",
       "      <td>98.7</td>\n",
       "      <td>184.0</td>\n",
       "      <td>0.0</td>\n",
       "      <td>14372001_0_4</td>\n",
       "      <td>307.48</td>\n",
       "      <td>267.94</td>\n",
       "      <td>15.61</td>\n",
       "      <td>0.0</td>\n",
       "      <td>293.5</td>\n",
       "      <td>261.83</td>\n",
       "      <td>100.0</td>\n",
       "      <td>24.9</td>\n",
       "      <td>204.953012</td>\n",
       "      <td>13.9</td>\n",
       "      <td>0.0</td>\n",
       "    </tr>\n",
       "  </tbody>\n",
       "</table>\n",
       "</div>"
      ],
      "text/plain": [
       "   number_sta                 date    ff       t      td    hu     dd  precip  \\\n",
       "0    14372001  2016-01-01 00:00:00  3.68  279.20  277.79  90.8  230.0     0.0   \n",
       "1    14372001  2016-01-01 01:00:00  2.99  278.86  277.57  91.5  221.0     0.0   \n",
       "2    14372001  2016-01-01 02:00:00  2.06  278.26  277.58  95.4  204.0     0.0   \n",
       "3    14372001  2016-01-01 03:00:00  2.14  276.89  276.43  96.7  197.0     0.0   \n",
       "4    14372001  2016-01-01 04:00:00  2.10  276.91  276.75  98.7  184.0     0.0   \n",
       "\n",
       "             Id   max_t   min_t  max_ff  min_ff  max_td  min_td  max_hu  \\\n",
       "0  14372001_0_0  307.48  267.94   15.61     0.0   293.5  261.83   100.0   \n",
       "1  14372001_0_1  307.48  267.94   15.61     0.0   293.5  261.83   100.0   \n",
       "2  14372001_0_2  307.48  267.94   15.61     0.0   293.5  261.83   100.0   \n",
       "3  14372001_0_3  307.48  267.94   15.61     0.0   293.5  261.83   100.0   \n",
       "4  14372001_0_4  307.48  267.94   15.61     0.0   293.5  261.83   100.0   \n",
       "\n",
       "   min_hu     mean_dd  max_precip  min_precip  \n",
       "0    24.9  204.953012        13.9         0.0  \n",
       "1    24.9  204.953012        13.9         0.0  \n",
       "2    24.9  204.953012        13.9         0.0  \n",
       "3    24.9  204.953012        13.9         0.0  \n",
       "4    24.9  204.953012        13.9         0.0  "
      ]
     },
     "execution_count": 15,
     "metadata": {},
     "output_type": "execute_result"
    }
   ],
   "source": [
    "pd.DataFrame(df.take(5), columns=df.columns)"
   ]
  },
  {
   "cell_type": "code",
   "execution_count": 16,
   "id": "bearing-indian",
   "metadata": {
    "ExecuteTime": {
     "end_time": "2022-01-08T20:32:57.911510Z",
     "start_time": "2022-01-08T20:32:57.902536Z"
    }
   },
   "outputs": [],
   "source": [
    "def spark_to_csv(df, file_path):\n",
    "    \"\"\" Converts spark dataframe to CSV file \"\"\"\n",
    "    with open(file_path, \"w\") as f:\n",
    "        writer = csv.DictWriter(f, fieldnames=df.columns)\n",
    "        writer.writerow(dict(zip(df.columns, df.columns)))\n",
    "        for row in df.toLocalIterator():\n",
    "            writer.writerow(row.asDict())"
   ]
  },
  {
   "cell_type": "code",
   "execution_count": 17,
   "id": "broad-possibility",
   "metadata": {
    "ExecuteTime": {
     "end_time": "2022-01-08T20:34:49.252480Z",
     "start_time": "2022-01-08T20:33:05.390514Z"
    }
   },
   "outputs": [],
   "source": [
    "spark_to_csv(df, \"polaki.csv\")"
   ]
  },
  {
   "cell_type": "code",
   "execution_count": 18,
   "id": "stopped-vocabulary",
   "metadata": {
    "ExecuteTime": {
     "end_time": "2022-01-08T20:35:04.830525Z",
     "start_time": "2022-01-08T20:34:55.439574Z"
    }
   },
   "outputs": [],
   "source": [
    "train = pd.read_csv(\"polaki.csv\")"
   ]
  },
  {
   "cell_type": "code",
   "execution_count": 21,
   "id": "convenient-programming",
   "metadata": {
    "ExecuteTime": {
     "end_time": "2022-01-08T20:35:51.902792Z",
     "start_time": "2022-01-08T20:35:30.583119Z"
    }
   },
   "outputs": [
    {
     "data": {
      "text/plain": [
       "<AxesSubplot:>"
      ]
     },
     "execution_count": 21,
     "metadata": {},
     "output_type": "execute_result"
    },
    {
     "data": {
      "image/png": "[encoded data removed]",
      "text/plain": [
       "<Figure size 1800x720 with 2 Axes>"
      ]
     },
     "metadata": {
      "needs_background": "light"
     },
     "output_type": "display_data"
    }
   ],
   "source": [
    "msno.matrix(train)"
   ]
  },
  {
   "cell_type": "code",
   "execution_count": null,
   "id": "requested-proportion",
   "metadata": {},
   "outputs": [],
   "source": [
    "train = train.groupby(\"\")"
   ]
  },
  {
   "cell_type": "code",
   "execution_count": null,
   "id": "intensive-shuttle",
   "metadata": {},
   "outputs": [],
   "source": []
  },
  {
   "cell_type": "code",
   "execution_count": null,
   "id": "polyphonic-circus",
   "metadata": {},
   "outputs": [],
   "source": []
  },
  {
   "cell_type": "code",
   "execution_count": null,
   "id": "higher-bronze",
   "metadata": {},
   "outputs": [],
   "source": []
  },
  {
   "cell_type": "code",
   "execution_count": null,
   "id": "seventh-bidding",
   "metadata": {},
   "outputs": [],
   "source": []
  },
  {
   "cell_type": "code",
   "execution_count": null,
   "id": "incomplete-acoustic",
   "metadata": {},
   "outputs": [],
   "source": []
  },
  {
   "cell_type": "code",
   "execution_count": null,
   "id": "committed-involvement",
   "metadata": {},
   "outputs": [],
   "source": []
  }
 ],
 "metadata": {
  "kernelspec": {
   "display_name": "Python 3",
   "language": "python",
   "name": "python3"
  },
  "language_info": {
   "codemirror_mode": {
    "name": "ipython",
    "version": 3
   },
   "file_extension": ".py",
   "mimetype": "text/x-python",
   "name": "python",
   "nbconvert_exporter": "python",
   "pygments_lexer": "ipython3",
   "version": "3.9.1"
  },
  "toc": {
   "base_numbering": 1,
   "nav_menu": {},
   "number_sections": true,
   "sideBar": true,
   "skip_h1_title": false,
   "title_cell": "Table of Contents",
   "title_sidebar": "Contents",
   "toc_cell": true,
   "toc_position": {},
   "toc_section_display": true,
   "toc_window_display": false
  },
  "varInspector": {
   "cols": {
    "lenName": 16,
    "lenType": 16,
    "lenVar": 40
   },
   "kernels_config": {
    "python": {
     "delete_cmd_postfix": "",
     "delete_cmd_prefix": "del ",
     "library": "var_list.py",
     "varRefreshCmd": "print(var_dic_list())"
    },
    "r": {
     "delete_cmd_postfix": ") ",
     "delete_cmd_prefix": "rm(",
     "library": "var_list.r",
     "varRefreshCmd": "cat(var_dic_list()) "
    }
   },
   "types_to_exclude": [
    "module",
    "function",
    "builtin_function_or_method",
    "instance",
    "_Feature"
   ],
   "window_display": false
  }
 },
 "nbformat": 4,
 "nbformat_minor": 5
}
