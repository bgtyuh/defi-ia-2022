{
 "cells": [
  {
   "cell_type": "markdown",
   "id": "7f046880",
   "metadata": {
    "toc": true
   },
   "source": [
    "<h1>Table of Contents<span class=\"tocSkip\"></span></h1>\n",
    "<div class=\"toc\"><ul class=\"toc-item\"><li><span><a href=\"#Importations\" data-toc-modified-id=\"Importations-1\">Importations</a></span></li><li><span><a href=\"#Ajout-de-colonnes-depuis-'date'\" data-toc-modified-id=\"Ajout-de-colonnes-depuis-'date'-2\">Ajout de colonnes depuis 'date'</a></span></li><li><span><a href=\"#Ajout-des-coordonnées\" data-toc-modified-id=\"Ajout-des-coordonnées-3\">Ajout des coordonnées</a></span></li><li><span><a href=\"#Regroupement-des-données\" data-toc-modified-id=\"Regroupement-des-données-4\">Regroupement des données</a></span></li><li><span><a href=\"#Modèle\" data-toc-modified-id=\"Modèle-5\">Modèle</a></span></li></ul></div>"
   ]
  },
  {
   "cell_type": "code",
   "execution_count": 13,
   "id": "11942c2a",
   "metadata": {
    "ExecuteTime": {
     "end_time": "2021-11-23T10:36:56.828614Z",
     "start_time": "2021-11-23T10:36:56.809259Z"
    }
   },
   "outputs": [],
   "source": [
    "import numpy.linalg as npl\n",
    "import pandas as pd\n",
    "import seaborn as sns\n",
    "import missingno as msno\n",
    "import matplotlib.pyplot as plt\n",
    "\n",
    "from sklearn.model_selection import train_test_split\n",
    "from sklearn.metrics import mean_absolute_percentage_error as mape\n",
    "\n",
    "from xgboost import XGBRegressor"
   ]
  },
  {
   "cell_type": "markdown",
   "id": "283a0c52",
   "metadata": {},
   "source": [
    "# Importations"
   ]
  },
  {
   "cell_type": "code",
   "execution_count": 104,
   "id": "a4143ba5",
   "metadata": {
    "ExecuteTime": {
     "end_time": "2021-11-23T13:22:13.677512Z",
     "start_time": "2021-11-23T13:22:10.021713Z"
    }
   },
   "outputs": [],
   "source": [
    "train = pd.read_csv(\"Train/Train/X_station_train.csv\")\n",
    "y_train = pd.read_csv(\"Train/Train/Y_train.csv\")\n",
    "coords = pd.read_csv(\"Other/Other/stations_coordinates.csv\")"
   ]
  },
  {
   "cell_type": "markdown",
   "id": "42cc7616",
   "metadata": {},
   "source": [
    "# Ajout de colonnes depuis 'date'"
   ]
  },
  {
   "cell_type": "code",
   "execution_count": 105,
   "id": "3eabab24",
   "metadata": {
    "ExecuteTime": {
     "end_time": "2021-11-23T13:22:40.217369Z",
     "start_time": "2021-11-23T13:22:13.703951Z"
    }
   },
   "outputs": [],
   "source": [
    "train[\"month\"] = train[\"date\"].replace(to_replace=\"^.{5}\", value=\"\", regex=True)\\\n",
    "                              .replace(to_replace=\".{12}$\", value=\"\", regex=True)\n",
    "\n",
    "train[\"day\"] = train[\"date\"].replace(to_replace=\"^.{8}\", value=\"\", regex=True)\\\n",
    "                            .replace(to_replace=\".{9}$\", value=\"\", regex=True)\n",
    "\n",
    "train[\"hour\"] = train[\"date\"].replace(to_replace=\"^.{11}\", value=\"\", regex=True)\\\n",
    "                             .replace(to_replace=\".{6}$\", value=\"\", regex=True)"
   ]
  },
  {
   "cell_type": "code",
   "execution_count": 106,
   "id": "52194e00",
   "metadata": {
    "ExecuteTime": {
     "end_time": "2021-11-23T13:22:40.564927Z",
     "start_time": "2021-11-23T13:22:40.544328Z"
    }
   },
   "outputs": [],
   "source": [
    "del train[\"date\"]"
   ]
  },
  {
   "cell_type": "code",
   "execution_count": 107,
   "id": "212b02d9",
   "metadata": {
    "ExecuteTime": {
     "end_time": "2021-11-23T13:22:42.241943Z",
     "start_time": "2021-11-23T13:22:40.596745Z"
    }
   },
   "outputs": [],
   "source": [
    "train = train.astype({\"month\": \"int8\", \"day\": \"int8\", \"hour\": \"int8\"})"
   ]
  },
  {
   "cell_type": "markdown",
   "id": "9e3d83c2",
   "metadata": {},
   "source": [
    "# Ajout des coordonnées"
   ]
  },
  {
   "cell_type": "code",
   "execution_count": 108,
   "id": "c89713b8",
   "metadata": {
    "ExecuteTime": {
     "end_time": "2021-11-23T13:22:43.156568Z",
     "start_time": "2021-11-23T13:22:42.265290Z"
    }
   },
   "outputs": [],
   "source": [
    "train = train.merge(coords, how=\"left\", on=\"number_sta\")"
   ]
  },
  {
   "cell_type": "code",
   "execution_count": 109,
   "id": "5693b432",
   "metadata": {
    "ExecuteTime": {
     "end_time": "2021-11-23T13:22:43.714296Z",
     "start_time": "2021-11-23T13:22:43.197342Z"
    }
   },
   "outputs": [],
   "source": [
    "train = train.astype({\"Id\": str, \n",
    "                      \"number_sta\": \"category\", \n",
    "                      \"month\": \"category\", \n",
    "                      \"day\": \"category\", \n",
    "                      \"hour\": \"category\"})"
   ]
  },
  {
   "cell_type": "markdown",
   "id": "19be52d6",
   "metadata": {},
   "source": [
    "# Regroupement des données"
   ]
  },
  {
   "cell_type": "code",
   "execution_count": 110,
   "id": "2bc6761a",
   "metadata": {
    "ExecuteTime": {
     "end_time": "2021-11-23T13:22:50.493799Z",
     "start_time": "2021-11-23T13:22:43.745661Z"
    }
   },
   "outputs": [],
   "source": [
    "train[\"Id\"].replace(to_replace=\".\\d+$\", value=\"\", regex=True, inplace=True)"
   ]
  },
  {
   "cell_type": "code",
   "execution_count": 111,
   "id": "189c4701",
   "metadata": {
    "ExecuteTime": {
     "end_time": "2021-11-23T13:22:50.566336Z",
     "start_time": "2021-11-23T13:22:50.534573Z"
    }
   },
   "outputs": [
    {
     "data": {
      "text/html": [
       "<div>\n",
       "<style scoped>\n",
       "    .dataframe tbody tr th:only-of-type {\n",
       "        vertical-align: middle;\n",
       "    }\n",
       "\n",
       "    .dataframe tbody tr th {\n",
       "        vertical-align: top;\n",
       "    }\n",
       "\n",
       "    .dataframe thead th {\n",
       "        text-align: right;\n",
       "    }\n",
       "</style>\n",
       "<table border=\"1\" class=\"dataframe\">\n",
       "  <thead>\n",
       "    <tr style=\"text-align: right;\">\n",
       "      <th></th>\n",
       "      <th>number_sta</th>\n",
       "      <th>ff</th>\n",
       "      <th>t</th>\n",
       "      <th>td</th>\n",
       "      <th>hu</th>\n",
       "      <th>dd</th>\n",
       "      <th>precip</th>\n",
       "      <th>Id</th>\n",
       "      <th>month</th>\n",
       "      <th>day</th>\n",
       "      <th>hour</th>\n",
       "      <th>lat</th>\n",
       "      <th>lon</th>\n",
       "      <th>height_sta</th>\n",
       "    </tr>\n",
       "  </thead>\n",
       "  <tbody>\n",
       "    <tr>\n",
       "      <th>0</th>\n",
       "      <td>14066001</td>\n",
       "      <td>3.05</td>\n",
       "      <td>279.28</td>\n",
       "      <td>277.97</td>\n",
       "      <td>91.4</td>\n",
       "      <td>200.0</td>\n",
       "      <td>0.0</td>\n",
       "      <td>14066001_0</td>\n",
       "      <td>1</td>\n",
       "      <td>1</td>\n",
       "      <td>0</td>\n",
       "      <td>49.334</td>\n",
       "      <td>-0.431</td>\n",
       "      <td>2.0</td>\n",
       "    </tr>\n",
       "    <tr>\n",
       "      <th>1</th>\n",
       "      <td>14066001</td>\n",
       "      <td>2.57</td>\n",
       "      <td>278.76</td>\n",
       "      <td>277.45</td>\n",
       "      <td>91.4</td>\n",
       "      <td>190.0</td>\n",
       "      <td>0.0</td>\n",
       "      <td>14066001_0</td>\n",
       "      <td>1</td>\n",
       "      <td>1</td>\n",
       "      <td>1</td>\n",
       "      <td>49.334</td>\n",
       "      <td>-0.431</td>\n",
       "      <td>2.0</td>\n",
       "    </tr>\n",
       "    <tr>\n",
       "      <th>2</th>\n",
       "      <td>14066001</td>\n",
       "      <td>2.26</td>\n",
       "      <td>278.27</td>\n",
       "      <td>277.02</td>\n",
       "      <td>91.7</td>\n",
       "      <td>181.0</td>\n",
       "      <td>0.0</td>\n",
       "      <td>14066001_0</td>\n",
       "      <td>1</td>\n",
       "      <td>1</td>\n",
       "      <td>2</td>\n",
       "      <td>49.334</td>\n",
       "      <td>-0.431</td>\n",
       "      <td>2.0</td>\n",
       "    </tr>\n",
       "    <tr>\n",
       "      <th>3</th>\n",
       "      <td>14066001</td>\n",
       "      <td>2.62</td>\n",
       "      <td>277.98</td>\n",
       "      <td>276.95</td>\n",
       "      <td>93.0</td>\n",
       "      <td>159.0</td>\n",
       "      <td>0.0</td>\n",
       "      <td>14066001_0</td>\n",
       "      <td>1</td>\n",
       "      <td>1</td>\n",
       "      <td>3</td>\n",
       "      <td>49.334</td>\n",
       "      <td>-0.431</td>\n",
       "      <td>2.0</td>\n",
       "    </tr>\n",
       "    <tr>\n",
       "      <th>4</th>\n",
       "      <td>14066001</td>\n",
       "      <td>2.99</td>\n",
       "      <td>277.32</td>\n",
       "      <td>276.72</td>\n",
       "      <td>95.9</td>\n",
       "      <td>171.0</td>\n",
       "      <td>0.0</td>\n",
       "      <td>14066001_0</td>\n",
       "      <td>1</td>\n",
       "      <td>1</td>\n",
       "      <td>4</td>\n",
       "      <td>49.334</td>\n",
       "      <td>-0.431</td>\n",
       "      <td>2.0</td>\n",
       "    </tr>\n",
       "    <tr>\n",
       "      <th>...</th>\n",
       "      <td>...</td>\n",
       "      <td>...</td>\n",
       "      <td>...</td>\n",
       "      <td>...</td>\n",
       "      <td>...</td>\n",
       "      <td>...</td>\n",
       "      <td>...</td>\n",
       "      <td>...</td>\n",
       "      <td>...</td>\n",
       "      <td>...</td>\n",
       "      <td>...</td>\n",
       "      <td>...</td>\n",
       "      <td>...</td>\n",
       "      <td>...</td>\n",
       "    </tr>\n",
       "    <tr>\n",
       "      <th>4409469</th>\n",
       "      <td>95690001</td>\n",
       "      <td>9.10</td>\n",
       "      <td>286.68</td>\n",
       "      <td>283.44</td>\n",
       "      <td>80.8</td>\n",
       "      <td>239.0</td>\n",
       "      <td>0.0</td>\n",
       "      <td>95690001_729</td>\n",
       "      <td>12</td>\n",
       "      <td>30</td>\n",
       "      <td>19</td>\n",
       "      <td>49.108</td>\n",
       "      <td>1.831</td>\n",
       "      <td>126.0</td>\n",
       "    </tr>\n",
       "    <tr>\n",
       "      <th>4409470</th>\n",
       "      <td>95690001</td>\n",
       "      <td>8.58</td>\n",
       "      <td>286.39</td>\n",
       "      <td>283.21</td>\n",
       "      <td>81.1</td>\n",
       "      <td>231.0</td>\n",
       "      <td>0.0</td>\n",
       "      <td>95690001_729</td>\n",
       "      <td>12</td>\n",
       "      <td>30</td>\n",
       "      <td>20</td>\n",
       "      <td>49.108</td>\n",
       "      <td>1.831</td>\n",
       "      <td>126.0</td>\n",
       "    </tr>\n",
       "    <tr>\n",
       "      <th>4409471</th>\n",
       "      <td>95690001</td>\n",
       "      <td>8.74</td>\n",
       "      <td>286.28</td>\n",
       "      <td>283.40</td>\n",
       "      <td>82.6</td>\n",
       "      <td>226.0</td>\n",
       "      <td>0.0</td>\n",
       "      <td>95690001_729</td>\n",
       "      <td>12</td>\n",
       "      <td>30</td>\n",
       "      <td>21</td>\n",
       "      <td>49.108</td>\n",
       "      <td>1.831</td>\n",
       "      <td>126.0</td>\n",
       "    </tr>\n",
       "    <tr>\n",
       "      <th>4409472</th>\n",
       "      <td>95690001</td>\n",
       "      <td>9.04</td>\n",
       "      <td>286.21</td>\n",
       "      <td>283.29</td>\n",
       "      <td>82.4</td>\n",
       "      <td>224.0</td>\n",
       "      <td>0.0</td>\n",
       "      <td>95690001_729</td>\n",
       "      <td>12</td>\n",
       "      <td>30</td>\n",
       "      <td>22</td>\n",
       "      <td>49.108</td>\n",
       "      <td>1.831</td>\n",
       "      <td>126.0</td>\n",
       "    </tr>\n",
       "    <tr>\n",
       "      <th>4409473</th>\n",
       "      <td>95690001</td>\n",
       "      <td>9.11</td>\n",
       "      <td>285.92</td>\n",
       "      <td>282.42</td>\n",
       "      <td>79.4</td>\n",
       "      <td>221.0</td>\n",
       "      <td>0.0</td>\n",
       "      <td>95690001_729</td>\n",
       "      <td>12</td>\n",
       "      <td>30</td>\n",
       "      <td>23</td>\n",
       "      <td>49.108</td>\n",
       "      <td>1.831</td>\n",
       "      <td>126.0</td>\n",
       "    </tr>\n",
       "  </tbody>\n",
       "</table>\n",
       "<p>4409474 rows × 14 columns</p>\n",
       "</div>"
      ],
      "text/plain": [
       "        number_sta    ff       t      td    hu     dd  precip            Id  \\\n",
       "0         14066001  3.05  279.28  277.97  91.4  200.0     0.0    14066001_0   \n",
       "1         14066001  2.57  278.76  277.45  91.4  190.0     0.0    14066001_0   \n",
       "2         14066001  2.26  278.27  277.02  91.7  181.0     0.0    14066001_0   \n",
       "3         14066001  2.62  277.98  276.95  93.0  159.0     0.0    14066001_0   \n",
       "4         14066001  2.99  277.32  276.72  95.9  171.0     0.0    14066001_0   \n",
       "...            ...   ...     ...     ...   ...    ...     ...           ...   \n",
       "4409469   95690001  9.10  286.68  283.44  80.8  239.0     0.0  95690001_729   \n",
       "4409470   95690001  8.58  286.39  283.21  81.1  231.0     0.0  95690001_729   \n",
       "4409471   95690001  8.74  286.28  283.40  82.6  226.0     0.0  95690001_729   \n",
       "4409472   95690001  9.04  286.21  283.29  82.4  224.0     0.0  95690001_729   \n",
       "4409473   95690001  9.11  285.92  282.42  79.4  221.0     0.0  95690001_729   \n",
       "\n",
       "        month day hour     lat    lon  height_sta  \n",
       "0           1   1    0  49.334 -0.431         2.0  \n",
       "1           1   1    1  49.334 -0.431         2.0  \n",
       "2           1   1    2  49.334 -0.431         2.0  \n",
       "3           1   1    3  49.334 -0.431         2.0  \n",
       "4           1   1    4  49.334 -0.431         2.0  \n",
       "...       ...  ..  ...     ...    ...         ...  \n",
       "4409469    12  30   19  49.108  1.831       126.0  \n",
       "4409470    12  30   20  49.108  1.831       126.0  \n",
       "4409471    12  30   21  49.108  1.831       126.0  \n",
       "4409472    12  30   22  49.108  1.831       126.0  \n",
       "4409473    12  30   23  49.108  1.831       126.0  \n",
       "\n",
       "[4409474 rows x 14 columns]"
      ]
     },
     "execution_count": 111,
     "metadata": {},
     "output_type": "execute_result"
    }
   ],
   "source": [
    "train"
   ]
  },
  {
   "cell_type": "code",
   "execution_count": 112,
   "id": "40f85334",
   "metadata": {
    "ExecuteTime": {
     "end_time": "2021-11-23T13:23:09.747825Z",
     "start_time": "2021-11-23T13:22:50.598173Z"
    }
   },
   "outputs": [],
   "source": [
    "train = train.groupby(\"Id\", as_index=False).agg({\n",
    "    \"number_sta\": \"first\",\n",
    "    \"ff\": \"median\",\n",
    "    \"t\": \"median\",\n",
    "    \"td\": \"median\",\n",
    "    \"hu\": \"median\",\n",
    "    \"dd\": \"median\",\n",
    "    \"precip\": \"sum\",\n",
    "    \"month\": \"first\",\n",
    "    \"day\": \"first\",\n",
    "    \"hour\": \"first\",\n",
    "    \"lat\": \"first\",\n",
    "    \"lon\": \"first\",\n",
    "    \"height_sta\": \"first\"\n",
    "})"
   ]
  },
  {
   "cell_type": "code",
   "execution_count": 119,
   "id": "b6ce6295",
   "metadata": {
    "ExecuteTime": {
     "end_time": "2021-11-23T13:27:32.794820Z",
     "start_time": "2021-11-23T13:27:32.647934Z"
    }
   },
   "outputs": [],
   "source": [
    "y_train = y_train.sort_values(\"Id\")"
   ]
  },
  {
   "cell_type": "code",
   "execution_count": 120,
   "id": "61853b65",
   "metadata": {
    "ExecuteTime": {
     "end_time": "2021-11-23T13:27:38.764860Z",
     "start_time": "2021-11-23T13:27:38.596018Z"
    }
   },
   "outputs": [],
   "source": [
    "train = train.sort_values(\"Id\")"
   ]
  },
  {
   "cell_type": "code",
   "execution_count": 121,
   "id": "bc8a5985",
   "metadata": {
    "ExecuteTime": {
     "end_time": "2021-11-23T13:27:40.380226Z",
     "start_time": "2021-11-23T13:27:40.338197Z"
    }
   },
   "outputs": [
    {
     "data": {
      "text/html": [
       "<div>\n",
       "<style scoped>\n",
       "    .dataframe tbody tr th:only-of-type {\n",
       "        vertical-align: middle;\n",
       "    }\n",
       "\n",
       "    .dataframe tbody tr th {\n",
       "        vertical-align: top;\n",
       "    }\n",
       "\n",
       "    .dataframe thead th {\n",
       "        text-align: right;\n",
       "    }\n",
       "</style>\n",
       "<table border=\"1\" class=\"dataframe\">\n",
       "  <thead>\n",
       "    <tr style=\"text-align: right;\">\n",
       "      <th></th>\n",
       "      <th>Id</th>\n",
       "      <th>number_sta</th>\n",
       "      <th>ff</th>\n",
       "      <th>t</th>\n",
       "      <th>td</th>\n",
       "      <th>hu</th>\n",
       "      <th>dd</th>\n",
       "      <th>precip</th>\n",
       "      <th>month</th>\n",
       "      <th>day</th>\n",
       "      <th>hour</th>\n",
       "      <th>lat</th>\n",
       "      <th>lon</th>\n",
       "      <th>height_sta</th>\n",
       "    </tr>\n",
       "  </thead>\n",
       "  <tbody>\n",
       "    <tr>\n",
       "      <th>0</th>\n",
       "      <td>14066001_0</td>\n",
       "      <td>14066001</td>\n",
       "      <td>3.695</td>\n",
       "      <td>281.325</td>\n",
       "      <td>278.625</td>\n",
       "      <td>90.15</td>\n",
       "      <td>142.0</td>\n",
       "      <td>0.2</td>\n",
       "      <td>1</td>\n",
       "      <td>1</td>\n",
       "      <td>0</td>\n",
       "      <td>49.334</td>\n",
       "      <td>-0.431</td>\n",
       "      <td>2.0</td>\n",
       "    </tr>\n",
       "    <tr>\n",
       "      <th>1</th>\n",
       "      <td>14066001_1</td>\n",
       "      <td>14066001</td>\n",
       "      <td>7.690</td>\n",
       "      <td>282.870</td>\n",
       "      <td>280.045</td>\n",
       "      <td>83.60</td>\n",
       "      <td>207.0</td>\n",
       "      <td>3.4</td>\n",
       "      <td>1</td>\n",
       "      <td>2</td>\n",
       "      <td>0</td>\n",
       "      <td>49.334</td>\n",
       "      <td>-0.431</td>\n",
       "      <td>2.0</td>\n",
       "    </tr>\n",
       "    <tr>\n",
       "      <th>2</th>\n",
       "      <td>14066001_10</td>\n",
       "      <td>14066001</td>\n",
       "      <td>5.340</td>\n",
       "      <td>279.520</td>\n",
       "      <td>277.385</td>\n",
       "      <td>86.90</td>\n",
       "      <td>226.5</td>\n",
       "      <td>6.0</td>\n",
       "      <td>1</td>\n",
       "      <td>11</td>\n",
       "      <td>0</td>\n",
       "      <td>49.334</td>\n",
       "      <td>-0.431</td>\n",
       "      <td>2.0</td>\n",
       "    </tr>\n",
       "    <tr>\n",
       "      <th>3</th>\n",
       "      <td>14066001_100</td>\n",
       "      <td>14066001</td>\n",
       "      <td>4.435</td>\n",
       "      <td>283.950</td>\n",
       "      <td>278.005</td>\n",
       "      <td>80.95</td>\n",
       "      <td>133.0</td>\n",
       "      <td>11.6</td>\n",
       "      <td>4</td>\n",
       "      <td>10</td>\n",
       "      <td>0</td>\n",
       "      <td>49.334</td>\n",
       "      <td>-0.431</td>\n",
       "      <td>2.0</td>\n",
       "    </tr>\n",
       "    <tr>\n",
       "      <th>4</th>\n",
       "      <td>14066001_101</td>\n",
       "      <td>14066001</td>\n",
       "      <td>1.790</td>\n",
       "      <td>282.720</td>\n",
       "      <td>281.360</td>\n",
       "      <td>89.55</td>\n",
       "      <td>171.5</td>\n",
       "      <td>5.6</td>\n",
       "      <td>4</td>\n",
       "      <td>11</td>\n",
       "      <td>0</td>\n",
       "      <td>49.334</td>\n",
       "      <td>-0.431</td>\n",
       "      <td>2.0</td>\n",
       "    </tr>\n",
       "    <tr>\n",
       "      <th>...</th>\n",
       "      <td>...</td>\n",
       "      <td>...</td>\n",
       "      <td>...</td>\n",
       "      <td>...</td>\n",
       "      <td>...</td>\n",
       "      <td>...</td>\n",
       "      <td>...</td>\n",
       "      <td>...</td>\n",
       "      <td>...</td>\n",
       "      <td>...</td>\n",
       "      <td>...</td>\n",
       "      <td>...</td>\n",
       "      <td>...</td>\n",
       "      <td>...</td>\n",
       "    </tr>\n",
       "    <tr>\n",
       "      <th>183742</th>\n",
       "      <td>95690001_725</td>\n",
       "      <td>95690001</td>\n",
       "      <td>7.310</td>\n",
       "      <td>279.005</td>\n",
       "      <td>276.850</td>\n",
       "      <td>85.00</td>\n",
       "      <td>202.0</td>\n",
       "      <td>2.4</td>\n",
       "      <td>12</td>\n",
       "      <td>26</td>\n",
       "      <td>0</td>\n",
       "      <td>49.108</td>\n",
       "      <td>1.831</td>\n",
       "      <td>126.0</td>\n",
       "    </tr>\n",
       "    <tr>\n",
       "      <th>183743</th>\n",
       "      <td>95690001_726</td>\n",
       "      <td>95690001</td>\n",
       "      <td>8.285</td>\n",
       "      <td>277.110</td>\n",
       "      <td>274.885</td>\n",
       "      <td>88.75</td>\n",
       "      <td>276.5</td>\n",
       "      <td>3.2</td>\n",
       "      <td>12</td>\n",
       "      <td>27</td>\n",
       "      <td>0</td>\n",
       "      <td>49.108</td>\n",
       "      <td>1.831</td>\n",
       "      <td>126.0</td>\n",
       "    </tr>\n",
       "    <tr>\n",
       "      <th>183744</th>\n",
       "      <td>95690001_727</td>\n",
       "      <td>95690001</td>\n",
       "      <td>2.875</td>\n",
       "      <td>274.495</td>\n",
       "      <td>273.055</td>\n",
       "      <td>88.70</td>\n",
       "      <td>250.5</td>\n",
       "      <td>0.0</td>\n",
       "      <td>12</td>\n",
       "      <td>28</td>\n",
       "      <td>0</td>\n",
       "      <td>49.108</td>\n",
       "      <td>1.831</td>\n",
       "      <td>126.0</td>\n",
       "    </tr>\n",
       "    <tr>\n",
       "      <th>183745</th>\n",
       "      <td>95690001_728</td>\n",
       "      <td>95690001</td>\n",
       "      <td>6.545</td>\n",
       "      <td>278.760</td>\n",
       "      <td>275.480</td>\n",
       "      <td>91.95</td>\n",
       "      <td>210.0</td>\n",
       "      <td>4.4</td>\n",
       "      <td>12</td>\n",
       "      <td>29</td>\n",
       "      <td>0</td>\n",
       "      <td>49.108</td>\n",
       "      <td>1.831</td>\n",
       "      <td>126.0</td>\n",
       "    </tr>\n",
       "    <tr>\n",
       "      <th>183746</th>\n",
       "      <td>95690001_729</td>\n",
       "      <td>95690001</td>\n",
       "      <td>8.840</td>\n",
       "      <td>286.335</td>\n",
       "      <td>283.645</td>\n",
       "      <td>89.80</td>\n",
       "      <td>235.0</td>\n",
       "      <td>5.4</td>\n",
       "      <td>12</td>\n",
       "      <td>30</td>\n",
       "      <td>0</td>\n",
       "      <td>49.108</td>\n",
       "      <td>1.831</td>\n",
       "      <td>126.0</td>\n",
       "    </tr>\n",
       "  </tbody>\n",
       "</table>\n",
       "<p>183747 rows × 14 columns</p>\n",
       "</div>"
      ],
      "text/plain": [
       "                  Id number_sta     ff        t       td     hu     dd  \\\n",
       "0         14066001_0   14066001  3.695  281.325  278.625  90.15  142.0   \n",
       "1         14066001_1   14066001  7.690  282.870  280.045  83.60  207.0   \n",
       "2        14066001_10   14066001  5.340  279.520  277.385  86.90  226.5   \n",
       "3       14066001_100   14066001  4.435  283.950  278.005  80.95  133.0   \n",
       "4       14066001_101   14066001  1.790  282.720  281.360  89.55  171.5   \n",
       "...              ...        ...    ...      ...      ...    ...    ...   \n",
       "183742  95690001_725   95690001  7.310  279.005  276.850  85.00  202.0   \n",
       "183743  95690001_726   95690001  8.285  277.110  274.885  88.75  276.5   \n",
       "183744  95690001_727   95690001  2.875  274.495  273.055  88.70  250.5   \n",
       "183745  95690001_728   95690001  6.545  278.760  275.480  91.95  210.0   \n",
       "183746  95690001_729   95690001  8.840  286.335  283.645  89.80  235.0   \n",
       "\n",
       "        precip month day hour     lat    lon  height_sta  \n",
       "0          0.2     1   1    0  49.334 -0.431         2.0  \n",
       "1          3.4     1   2    0  49.334 -0.431         2.0  \n",
       "2          6.0     1  11    0  49.334 -0.431         2.0  \n",
       "3         11.6     4  10    0  49.334 -0.431         2.0  \n",
       "4          5.6     4  11    0  49.334 -0.431         2.0  \n",
       "...        ...   ...  ..  ...     ...    ...         ...  \n",
       "183742     2.4    12  26    0  49.108  1.831       126.0  \n",
       "183743     3.2    12  27    0  49.108  1.831       126.0  \n",
       "183744     0.0    12  28    0  49.108  1.831       126.0  \n",
       "183745     4.4    12  29    0  49.108  1.831       126.0  \n",
       "183746     5.4    12  30    0  49.108  1.831       126.0  \n",
       "\n",
       "[183747 rows x 14 columns]"
      ]
     },
     "execution_count": 121,
     "metadata": {},
     "output_type": "execute_result"
    }
   ],
   "source": [
    "train"
   ]
  },
  {
   "cell_type": "code",
   "execution_count": 122,
   "id": "71e0550a",
   "metadata": {
    "ExecuteTime": {
     "end_time": "2021-11-23T13:27:47.315736Z",
     "start_time": "2021-11-23T13:27:47.299368Z"
    }
   },
   "outputs": [
    {
     "data": {
      "text/html": [
       "<div>\n",
       "<style scoped>\n",
       "    .dataframe tbody tr th:only-of-type {\n",
       "        vertical-align: middle;\n",
       "    }\n",
       "\n",
       "    .dataframe tbody tr th {\n",
       "        vertical-align: top;\n",
       "    }\n",
       "\n",
       "    .dataframe thead th {\n",
       "        text-align: right;\n",
       "    }\n",
       "</style>\n",
       "<table border=\"1\" class=\"dataframe\">\n",
       "  <thead>\n",
       "    <tr style=\"text-align: right;\">\n",
       "      <th></th>\n",
       "      <th>date</th>\n",
       "      <th>number_sta</th>\n",
       "      <th>Ground_truth</th>\n",
       "      <th>Id</th>\n",
       "    </tr>\n",
       "  </thead>\n",
       "  <tbody>\n",
       "    <tr>\n",
       "      <th>0</th>\n",
       "      <td>2016-01-02</td>\n",
       "      <td>14066001</td>\n",
       "      <td>3.4</td>\n",
       "      <td>14066001_0</td>\n",
       "    </tr>\n",
       "    <tr>\n",
       "      <th>249</th>\n",
       "      <td>2016-01-03</td>\n",
       "      <td>14066001</td>\n",
       "      <td>11.7</td>\n",
       "      <td>14066001_1</td>\n",
       "    </tr>\n",
       "    <tr>\n",
       "      <th>2491</th>\n",
       "      <td>2016-01-12</td>\n",
       "      <td>14066001</td>\n",
       "      <td>1.0</td>\n",
       "      <td>14066001_10</td>\n",
       "    </tr>\n",
       "    <tr>\n",
       "      <th>24978</th>\n",
       "      <td>2016-04-11</td>\n",
       "      <td>14066001</td>\n",
       "      <td>5.6</td>\n",
       "      <td>14066001_100</td>\n",
       "    </tr>\n",
       "    <tr>\n",
       "      <th>25228</th>\n",
       "      <td>2016-04-12</td>\n",
       "      <td>14066001</td>\n",
       "      <td>3.2</td>\n",
       "      <td>14066001_101</td>\n",
       "    </tr>\n",
       "    <tr>\n",
       "      <th>...</th>\n",
       "      <td>...</td>\n",
       "      <td>...</td>\n",
       "      <td>...</td>\n",
       "      <td>...</td>\n",
       "    </tr>\n",
       "    <tr>\n",
       "      <th>182747</th>\n",
       "      <td>2017-12-27</td>\n",
       "      <td>95690001</td>\n",
       "      <td>3.2</td>\n",
       "      <td>95690001_725</td>\n",
       "    </tr>\n",
       "    <tr>\n",
       "      <th>182997</th>\n",
       "      <td>2017-12-28</td>\n",
       "      <td>95690001</td>\n",
       "      <td>0.0</td>\n",
       "      <td>95690001_726</td>\n",
       "    </tr>\n",
       "    <tr>\n",
       "      <th>183247</th>\n",
       "      <td>2017-12-29</td>\n",
       "      <td>95690001</td>\n",
       "      <td>4.4</td>\n",
       "      <td>95690001_727</td>\n",
       "    </tr>\n",
       "    <tr>\n",
       "      <th>183497</th>\n",
       "      <td>2017-12-30</td>\n",
       "      <td>95690001</td>\n",
       "      <td>5.4</td>\n",
       "      <td>95690001_728</td>\n",
       "    </tr>\n",
       "    <tr>\n",
       "      <th>183746</th>\n",
       "      <td>2017-12-31</td>\n",
       "      <td>95690001</td>\n",
       "      <td>1.2</td>\n",
       "      <td>95690001_729</td>\n",
       "    </tr>\n",
       "  </tbody>\n",
       "</table>\n",
       "<p>183747 rows × 4 columns</p>\n",
       "</div>"
      ],
      "text/plain": [
       "              date  number_sta  Ground_truth            Id\n",
       "0       2016-01-02    14066001           3.4    14066001_0\n",
       "249     2016-01-03    14066001          11.7    14066001_1\n",
       "2491    2016-01-12    14066001           1.0   14066001_10\n",
       "24978   2016-04-11    14066001           5.6  14066001_100\n",
       "25228   2016-04-12    14066001           3.2  14066001_101\n",
       "...            ...         ...           ...           ...\n",
       "182747  2017-12-27    95690001           3.2  95690001_725\n",
       "182997  2017-12-28    95690001           0.0  95690001_726\n",
       "183247  2017-12-29    95690001           4.4  95690001_727\n",
       "183497  2017-12-30    95690001           5.4  95690001_728\n",
       "183746  2017-12-31    95690001           1.2  95690001_729\n",
       "\n",
       "[183747 rows x 4 columns]"
      ]
     },
     "execution_count": 122,
     "metadata": {},
     "output_type": "execute_result"
    }
   ],
   "source": [
    "y_train"
   ]
  },
  {
   "cell_type": "markdown",
   "id": "9692b0db",
   "metadata": {},
   "source": [
    "# Modèle"
   ]
  },
  {
   "cell_type": "code",
   "execution_count": 129,
   "id": "d8406775",
   "metadata": {
    "ExecuteTime": {
     "end_time": "2021-11-23T13:29:40.024308Z",
     "start_time": "2021-11-23T13:29:40.008608Z"
    }
   },
   "outputs": [],
   "source": [
    "X = train.drop(\"Id\", axis=1)\n",
    "y = y_train[\"Ground_truth\"]"
   ]
  },
  {
   "cell_type": "code",
   "execution_count": 131,
   "id": "79cc03b9",
   "metadata": {
    "ExecuteTime": {
     "end_time": "2021-11-23T13:29:49.489632Z",
     "start_time": "2021-11-23T13:29:49.424568Z"
    }
   },
   "outputs": [],
   "source": [
    "X_train, X_test, y_train, y_test = train_test_split(X, y, test_size=.25, random_state=42)"
   ]
  },
  {
   "cell_type": "code",
   "execution_count": 132,
   "id": "a04eb8aa",
   "metadata": {
    "ExecuteTime": {
     "end_time": "2021-11-23T13:32:08.270314Z",
     "start_time": "2021-11-23T13:32:08.238885Z"
    }
   },
   "outputs": [],
   "source": [
    "my_xgbr = XGBRegressor()"
   ]
  },
  {
   "cell_type": "code",
   "execution_count": 135,
   "id": "842371c0",
   "metadata": {
    "ExecuteTime": {
     "end_time": "2021-11-23T13:32:37.125770Z",
     "start_time": "2021-11-23T13:32:37.100935Z"
    }
   },
   "outputs": [
    {
     "ename": "ValueError",
     "evalue": "DataFrame.dtypes for data must be int, float, bool or category.  When\n                categorical type is supplied, DMatrix parameter `enable_categorical` must\n                be set to `True`.number_sta, month, day, hour",
     "output_type": "error",
     "traceback": [
      "\u001b[1;31m---------------------------------------------------------------------------\u001b[0m",
      "\u001b[1;31mValueError\u001b[0m                                Traceback (most recent call last)",
      "\u001b[1;32m~\\AppData\\Local\\Temp/ipykernel_20712/2353625294.py\u001b[0m in \u001b[0;36m<module>\u001b[1;34m\u001b[0m\n\u001b[1;32m----> 1\u001b[1;33m \u001b[0mmy_xgbr\u001b[0m\u001b[1;33m.\u001b[0m\u001b[0mfit\u001b[0m\u001b[1;33m(\u001b[0m\u001b[0mX_train\u001b[0m\u001b[1;33m,\u001b[0m \u001b[0my_train\u001b[0m\u001b[1;33m)\u001b[0m\u001b[1;33m\u001b[0m\u001b[1;33m\u001b[0m\u001b[0m\n\u001b[0m",
      "\u001b[1;32mD:\\Programmes\\Python310\\lib\\site-packages\\xgboost\\core.py\u001b[0m in \u001b[0;36minner_f\u001b[1;34m(*args, **kwargs)\u001b[0m\n\u001b[0;32m    504\u001b[0m         \u001b[1;32mfor\u001b[0m \u001b[0mk\u001b[0m\u001b[1;33m,\u001b[0m \u001b[0marg\u001b[0m \u001b[1;32min\u001b[0m \u001b[0mzip\u001b[0m\u001b[1;33m(\u001b[0m\u001b[0msig\u001b[0m\u001b[1;33m.\u001b[0m\u001b[0mparameters\u001b[0m\u001b[1;33m,\u001b[0m \u001b[0margs\u001b[0m\u001b[1;33m)\u001b[0m\u001b[1;33m:\u001b[0m\u001b[1;33m\u001b[0m\u001b[1;33m\u001b[0m\u001b[0m\n\u001b[0;32m    505\u001b[0m             \u001b[0mkwargs\u001b[0m\u001b[1;33m[\u001b[0m\u001b[0mk\u001b[0m\u001b[1;33m]\u001b[0m \u001b[1;33m=\u001b[0m \u001b[0marg\u001b[0m\u001b[1;33m\u001b[0m\u001b[1;33m\u001b[0m\u001b[0m\n\u001b[1;32m--> 506\u001b[1;33m         \u001b[1;32mreturn\u001b[0m \u001b[0mf\u001b[0m\u001b[1;33m(\u001b[0m\u001b[1;33m**\u001b[0m\u001b[0mkwargs\u001b[0m\u001b[1;33m)\u001b[0m\u001b[1;33m\u001b[0m\u001b[1;33m\u001b[0m\u001b[0m\n\u001b[0m\u001b[0;32m    507\u001b[0m \u001b[1;33m\u001b[0m\u001b[0m\n\u001b[0;32m    508\u001b[0m     \u001b[1;32mreturn\u001b[0m \u001b[0minner_f\u001b[0m\u001b[1;33m\u001b[0m\u001b[1;33m\u001b[0m\u001b[0m\n",
      "\u001b[1;32mD:\\Programmes\\Python310\\lib\\site-packages\\xgboost\\sklearn.py\u001b[0m in \u001b[0;36mfit\u001b[1;34m(self, X, y, sample_weight, base_margin, eval_set, eval_metric, early_stopping_rounds, verbose, xgb_model, sample_weight_eval_set, base_margin_eval_set, feature_weights, callbacks)\u001b[0m\n\u001b[0;32m    759\u001b[0m         \"\"\"\n\u001b[0;32m    760\u001b[0m         \u001b[0mevals_result\u001b[0m\u001b[1;33m:\u001b[0m \u001b[0mTrainingCallback\u001b[0m\u001b[1;33m.\u001b[0m\u001b[0mEvalsLog\u001b[0m \u001b[1;33m=\u001b[0m \u001b[1;33m{\u001b[0m\u001b[1;33m}\u001b[0m\u001b[1;33m\u001b[0m\u001b[1;33m\u001b[0m\u001b[0m\n\u001b[1;32m--> 761\u001b[1;33m         train_dmatrix, evals = _wrap_evaluation_matrices(\n\u001b[0m\u001b[0;32m    762\u001b[0m             \u001b[0mmissing\u001b[0m\u001b[1;33m=\u001b[0m\u001b[0mself\u001b[0m\u001b[1;33m.\u001b[0m\u001b[0mmissing\u001b[0m\u001b[1;33m,\u001b[0m\u001b[1;33m\u001b[0m\u001b[1;33m\u001b[0m\u001b[0m\n\u001b[0;32m    763\u001b[0m             \u001b[0mX\u001b[0m\u001b[1;33m=\u001b[0m\u001b[0mX\u001b[0m\u001b[1;33m,\u001b[0m\u001b[1;33m\u001b[0m\u001b[1;33m\u001b[0m\u001b[0m\n",
      "\u001b[1;32mD:\\Programmes\\Python310\\lib\\site-packages\\xgboost\\sklearn.py\u001b[0m in \u001b[0;36m_wrap_evaluation_matrices\u001b[1;34m(missing, X, y, group, qid, sample_weight, base_margin, feature_weights, eval_set, sample_weight_eval_set, base_margin_eval_set, eval_group, eval_qid, create_dmatrix, enable_categorical, label_transform)\u001b[0m\n\u001b[0;32m    284\u001b[0m \u001b[1;33m\u001b[0m\u001b[0m\n\u001b[0;32m    285\u001b[0m     \"\"\"\n\u001b[1;32m--> 286\u001b[1;33m     train_dmatrix = create_dmatrix(\n\u001b[0m\u001b[0;32m    287\u001b[0m         \u001b[0mdata\u001b[0m\u001b[1;33m=\u001b[0m\u001b[0mX\u001b[0m\u001b[1;33m,\u001b[0m\u001b[1;33m\u001b[0m\u001b[1;33m\u001b[0m\u001b[0m\n\u001b[0;32m    288\u001b[0m         \u001b[0mlabel\u001b[0m\u001b[1;33m=\u001b[0m\u001b[0mlabel_transform\u001b[0m\u001b[1;33m(\u001b[0m\u001b[0my\u001b[0m\u001b[1;33m)\u001b[0m\u001b[1;33m,\u001b[0m\u001b[1;33m\u001b[0m\u001b[1;33m\u001b[0m\u001b[0m\n",
      "\u001b[1;32mD:\\Programmes\\Python310\\lib\\site-packages\\xgboost\\sklearn.py\u001b[0m in \u001b[0;36m<lambda>\u001b[1;34m(**kwargs)\u001b[0m\n\u001b[0;32m    773\u001b[0m             \u001b[0meval_group\u001b[0m\u001b[1;33m=\u001b[0m\u001b[1;32mNone\u001b[0m\u001b[1;33m,\u001b[0m\u001b[1;33m\u001b[0m\u001b[1;33m\u001b[0m\u001b[0m\n\u001b[0;32m    774\u001b[0m             \u001b[0meval_qid\u001b[0m\u001b[1;33m=\u001b[0m\u001b[1;32mNone\u001b[0m\u001b[1;33m,\u001b[0m\u001b[1;33m\u001b[0m\u001b[1;33m\u001b[0m\u001b[0m\n\u001b[1;32m--> 775\u001b[1;33m             \u001b[0mcreate_dmatrix\u001b[0m\u001b[1;33m=\u001b[0m\u001b[1;32mlambda\u001b[0m \u001b[1;33m**\u001b[0m\u001b[0mkwargs\u001b[0m\u001b[1;33m:\u001b[0m \u001b[0mDMatrix\u001b[0m\u001b[1;33m(\u001b[0m\u001b[0mnthread\u001b[0m\u001b[1;33m=\u001b[0m\u001b[0mself\u001b[0m\u001b[1;33m.\u001b[0m\u001b[0mn_jobs\u001b[0m\u001b[1;33m,\u001b[0m \u001b[1;33m**\u001b[0m\u001b[0mkwargs\u001b[0m\u001b[1;33m)\u001b[0m\u001b[1;33m,\u001b[0m\u001b[1;33m\u001b[0m\u001b[1;33m\u001b[0m\u001b[0m\n\u001b[0m\u001b[0;32m    776\u001b[0m             \u001b[0menable_categorical\u001b[0m\u001b[1;33m=\u001b[0m\u001b[0mself\u001b[0m\u001b[1;33m.\u001b[0m\u001b[0menable_categorical\u001b[0m\u001b[1;33m,\u001b[0m\u001b[1;33m\u001b[0m\u001b[1;33m\u001b[0m\u001b[0m\n\u001b[0;32m    777\u001b[0m         )\n",
      "\u001b[1;32mD:\\Programmes\\Python310\\lib\\site-packages\\xgboost\\core.py\u001b[0m in \u001b[0;36minner_f\u001b[1;34m(*args, **kwargs)\u001b[0m\n\u001b[0;32m    504\u001b[0m         \u001b[1;32mfor\u001b[0m \u001b[0mk\u001b[0m\u001b[1;33m,\u001b[0m \u001b[0marg\u001b[0m \u001b[1;32min\u001b[0m \u001b[0mzip\u001b[0m\u001b[1;33m(\u001b[0m\u001b[0msig\u001b[0m\u001b[1;33m.\u001b[0m\u001b[0mparameters\u001b[0m\u001b[1;33m,\u001b[0m \u001b[0margs\u001b[0m\u001b[1;33m)\u001b[0m\u001b[1;33m:\u001b[0m\u001b[1;33m\u001b[0m\u001b[1;33m\u001b[0m\u001b[0m\n\u001b[0;32m    505\u001b[0m             \u001b[0mkwargs\u001b[0m\u001b[1;33m[\u001b[0m\u001b[0mk\u001b[0m\u001b[1;33m]\u001b[0m \u001b[1;33m=\u001b[0m \u001b[0marg\u001b[0m\u001b[1;33m\u001b[0m\u001b[1;33m\u001b[0m\u001b[0m\n\u001b[1;32m--> 506\u001b[1;33m         \u001b[1;32mreturn\u001b[0m \u001b[0mf\u001b[0m\u001b[1;33m(\u001b[0m\u001b[1;33m**\u001b[0m\u001b[0mkwargs\u001b[0m\u001b[1;33m)\u001b[0m\u001b[1;33m\u001b[0m\u001b[1;33m\u001b[0m\u001b[0m\n\u001b[0m\u001b[0;32m    507\u001b[0m \u001b[1;33m\u001b[0m\u001b[0m\n\u001b[0;32m    508\u001b[0m     \u001b[1;32mreturn\u001b[0m \u001b[0minner_f\u001b[0m\u001b[1;33m\u001b[0m\u001b[1;33m\u001b[0m\u001b[0m\n",
      "\u001b[1;32mD:\\Programmes\\Python310\\lib\\site-packages\\xgboost\\core.py\u001b[0m in \u001b[0;36m__init__\u001b[1;34m(self, data, label, weight, base_margin, missing, silent, feature_names, feature_types, nthread, group, qid, label_lower_bound, label_upper_bound, feature_weights, enable_categorical)\u001b[0m\n\u001b[0;32m    614\u001b[0m             \u001b[1;32mreturn\u001b[0m\u001b[1;33m\u001b[0m\u001b[1;33m\u001b[0m\u001b[0m\n\u001b[0;32m    615\u001b[0m \u001b[1;33m\u001b[0m\u001b[0m\n\u001b[1;32m--> 616\u001b[1;33m         handle, feature_names, feature_types = dispatch_data_backend(\n\u001b[0m\u001b[0;32m    617\u001b[0m             \u001b[0mdata\u001b[0m\u001b[1;33m,\u001b[0m\u001b[1;33m\u001b[0m\u001b[1;33m\u001b[0m\u001b[0m\n\u001b[0;32m    618\u001b[0m             \u001b[0mmissing\u001b[0m\u001b[1;33m=\u001b[0m\u001b[0mself\u001b[0m\u001b[1;33m.\u001b[0m\u001b[0mmissing\u001b[0m\u001b[1;33m,\u001b[0m\u001b[1;33m\u001b[0m\u001b[1;33m\u001b[0m\u001b[0m\n",
      "\u001b[1;32mD:\\Programmes\\Python310\\lib\\site-packages\\xgboost\\data.py\u001b[0m in \u001b[0;36mdispatch_data_backend\u001b[1;34m(data, missing, threads, feature_names, feature_types, enable_categorical)\u001b[0m\n\u001b[0;32m    705\u001b[0m         \u001b[1;32mreturn\u001b[0m \u001b[0m_from_tuple\u001b[0m\u001b[1;33m(\u001b[0m\u001b[0mdata\u001b[0m\u001b[1;33m,\u001b[0m \u001b[0mmissing\u001b[0m\u001b[1;33m,\u001b[0m \u001b[0mthreads\u001b[0m\u001b[1;33m,\u001b[0m \u001b[0mfeature_names\u001b[0m\u001b[1;33m,\u001b[0m \u001b[0mfeature_types\u001b[0m\u001b[1;33m)\u001b[0m\u001b[1;33m\u001b[0m\u001b[1;33m\u001b[0m\u001b[0m\n\u001b[0;32m    706\u001b[0m     \u001b[1;32mif\u001b[0m \u001b[0m_is_pandas_df\u001b[0m\u001b[1;33m(\u001b[0m\u001b[0mdata\u001b[0m\u001b[1;33m)\u001b[0m\u001b[1;33m:\u001b[0m\u001b[1;33m\u001b[0m\u001b[1;33m\u001b[0m\u001b[0m\n\u001b[1;32m--> 707\u001b[1;33m         return _from_pandas_df(data, enable_categorical, missing, threads,\n\u001b[0m\u001b[0;32m    708\u001b[0m                                feature_names, feature_types)\n\u001b[0;32m    709\u001b[0m     \u001b[1;32mif\u001b[0m \u001b[0m_is_pandas_series\u001b[0m\u001b[1;33m(\u001b[0m\u001b[0mdata\u001b[0m\u001b[1;33m)\u001b[0m\u001b[1;33m:\u001b[0m\u001b[1;33m\u001b[0m\u001b[1;33m\u001b[0m\u001b[0m\n",
      "\u001b[1;32mD:\\Programmes\\Python310\\lib\\site-packages\\xgboost\\data.py\u001b[0m in \u001b[0;36m_from_pandas_df\u001b[1;34m(data, enable_categorical, missing, nthread, feature_names, feature_types)\u001b[0m\n\u001b[0;32m    295\u001b[0m     \u001b[0mfeature_types\u001b[0m\u001b[1;33m:\u001b[0m \u001b[0mOptional\u001b[0m\u001b[1;33m[\u001b[0m\u001b[0mList\u001b[0m\u001b[1;33m[\u001b[0m\u001b[0mstr\u001b[0m\u001b[1;33m]\u001b[0m\u001b[1;33m]\u001b[0m\u001b[1;33m,\u001b[0m\u001b[1;33m\u001b[0m\u001b[1;33m\u001b[0m\u001b[0m\n\u001b[0;32m    296\u001b[0m ):\n\u001b[1;32m--> 297\u001b[1;33m     data, feature_names, feature_types = _transform_pandas_df(\n\u001b[0m\u001b[0;32m    298\u001b[0m         data, enable_categorical, feature_names, feature_types)\n\u001b[0;32m    299\u001b[0m     return _from_numpy_array(data, missing, nthread, feature_names,\n",
      "\u001b[1;32mD:\\Programmes\\Python310\\lib\\site-packages\\xgboost\\data.py\u001b[0m in \u001b[0;36m_transform_pandas_df\u001b[1;34m(data, enable_categorical, feature_names, feature_types, meta, meta_type)\u001b[0m\n\u001b[0;32m    240\u001b[0m                 \u001b[0mcategorical\u001b[0m \u001b[0mtype\u001b[0m \u001b[1;32mis\u001b[0m \u001b[0msupplied\u001b[0m\u001b[1;33m,\u001b[0m \u001b[0mDMatrix\u001b[0m \u001b[0mparameter\u001b[0m\u001b[0;31m \u001b[0m\u001b[0;31m`\u001b[0m\u001b[0menable_categorical\u001b[0m\u001b[0;31m`\u001b[0m \u001b[0mmust\u001b[0m\u001b[1;33m\u001b[0m\u001b[1;33m\u001b[0m\u001b[0m\n\u001b[0;32m    241\u001b[0m                 be set to `True`.\"\"\"\n\u001b[1;32m--> 242\u001b[1;33m         \u001b[1;32mraise\u001b[0m \u001b[0mValueError\u001b[0m\u001b[1;33m(\u001b[0m\u001b[0mmsg\u001b[0m \u001b[1;33m+\u001b[0m \u001b[1;34m', '\u001b[0m\u001b[1;33m.\u001b[0m\u001b[0mjoin\u001b[0m\u001b[1;33m(\u001b[0m\u001b[0mbad_fields\u001b[0m\u001b[1;33m)\u001b[0m\u001b[1;33m)\u001b[0m\u001b[1;33m\u001b[0m\u001b[1;33m\u001b[0m\u001b[0m\n\u001b[0m\u001b[0;32m    243\u001b[0m \u001b[1;33m\u001b[0m\u001b[0m\n\u001b[0;32m    244\u001b[0m     \u001b[1;31m# handle feature names\u001b[0m\u001b[1;33m\u001b[0m\u001b[1;33m\u001b[0m\u001b[0m\n",
      "\u001b[1;31mValueError\u001b[0m: DataFrame.dtypes for data must be int, float, bool or category.  When\n                categorical type is supplied, DMatrix parameter `enable_categorical` must\n                be set to `True`.number_sta, month, day, hour"
     ]
    }
   ],
   "source": [
    "my_xgbr.fit(X_train, y_train)"
   ]
  },
  {
   "cell_type": "code",
   "execution_count": null,
   "id": "74784960",
   "metadata": {},
   "outputs": [],
   "source": []
  }
 ],
 "metadata": {
  "kernelspec": {
   "display_name": "Python 3 (ipykernel)",
   "language": "python",
   "name": "python3"
  },
  "language_info": {
   "codemirror_mode": {
    "name": "ipython",
    "version": 3
   },
   "file_extension": ".py",
   "mimetype": "text/x-python",
   "name": "python",
   "nbconvert_exporter": "python",
   "pygments_lexer": "ipython3",
   "version": "3.10.0"
  },
  "toc": {
   "base_numbering": 1,
   "nav_menu": {},
   "number_sections": false,
   "sideBar": true,
   "skip_h1_title": false,
   "title_cell": "Table of Contents",
   "title_sidebar": "Contents",
   "toc_cell": true,
   "toc_position": {
    "height": "calc(100% - 180px)",
    "left": "10px",
    "top": "150px",
    "width": "205.4px"
   },
   "toc_section_display": true,
   "toc_window_display": true
  },
  "varInspector": {
   "cols": {
    "lenName": 16,
    "lenType": 16,
    "lenVar": 40
   },
   "kernels_config": {
    "python": {
     "delete_cmd_postfix": "",
     "delete_cmd_prefix": "del ",
     "library": "var_list.py",
     "varRefreshCmd": "print(var_dic_list())"
    },
    "r": {
     "delete_cmd_postfix": ") ",
     "delete_cmd_prefix": "rm(",
     "library": "var_list.r",
     "varRefreshCmd": "cat(var_dic_list()) "
    }
   },
   "position": {
    "height": "349.85px",
    "left": "1340.6px",
    "right": "20px",
    "top": "140px",
    "width": "177.4px"
   },
   "types_to_exclude": [
    "module",
    "function",
    "builtin_function_or_method",
    "instance",
    "_Feature"
   ],
   "window_display": false
  }
 },
 "nbformat": 4,
 "nbformat_minor": 5
}
