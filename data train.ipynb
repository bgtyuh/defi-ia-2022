{
 "cells": [
  {
   "cell_type": "markdown",
   "id": "7f046880",
   "metadata": {
    "toc": true
   },
   "source": [
    "<h1>Table of Contents<span class=\"tocSkip\"></span></h1>\n",
    "<div class=\"toc\"><ul class=\"toc-item\"><li><span><a href=\"#Importations\" data-toc-modified-id=\"Importations-1\">Importations</a></span></li><li><span><a href=\"#Ajout-de-colonnes-depuis-'date'\" data-toc-modified-id=\"Ajout-de-colonnes-depuis-'date'-2\">Ajout de colonnes depuis 'date'</a></span></li><li><span><a href=\"#Ajout-des-coordonnées\" data-toc-modified-id=\"Ajout-des-coordonnées-3\">Ajout des coordonnées</a></span></li><li><span><a href=\"#Regroupement-des-données\" data-toc-modified-id=\"Regroupement-des-données-4\">Regroupement des données</a></span></li><li><span><a href=\"#DropNA\" data-toc-modified-id=\"DropNA-5\">DropNA</a></span></li><li><span><a href=\"#Modèle\" data-toc-modified-id=\"Modèle-6\">Modèle</a></span></li></ul></div>"
   ]
  },
  {
   "cell_type": "code",
   "execution_count": 1,
   "id": "11942c2a",
   "metadata": {
    "ExecuteTime": {
     "end_time": "2021-11-29T17:50:51.573952Z",
     "start_time": "2021-11-29T17:50:34.340099Z"
    }
   },
   "outputs": [],
   "source": [
    "import numpy.linalg as npl\n",
    "import pandas as pd\n",
    "import seaborn as sns\n",
    "import missingno as msno\n",
    "import matplotlib.pyplot as plt\n",
    "\n",
    "from sklearn.model_selection import train_test_split\n",
    "from sklearn.metrics import mean_absolute_percentage_error as mape\n",
    "\n",
    "from xgboost import XGBRegressor"
   ]
  },
  {
   "cell_type": "markdown",
   "id": "283a0c52",
   "metadata": {},
   "source": [
    "# Importations"
   ]
  },
  {
   "cell_type": "code",
   "execution_count": 148,
   "id": "a4143ba5",
   "metadata": {
    "ExecuteTime": {
     "end_time": "2021-11-29T18:44:52.435981Z",
     "start_time": "2021-11-29T18:44:48.260790Z"
    }
   },
   "outputs": [],
   "source": [
    "DATA_X = pd.read_csv(\"Train/Train/X_station_train.csv\")\n",
    "DATA_Y = pd.read_csv(\"Train/Train/Y_train.csv\")\n",
    "COORDS = pd.read_csv(\"Other/Other/stations_coordinates.csv\")"
   ]
  },
  {
   "cell_type": "code",
   "execution_count": 167,
   "id": "mexican-plenty",
   "metadata": {
    "ExecuteTime": {
     "end_time": "2021-11-29T18:47:44.637913Z",
     "start_time": "2021-11-29T18:47:44.501156Z"
    }
   },
   "outputs": [],
   "source": [
    "train = DATA_X.copy()\n",
    "y = DATA_Y.copy()\n",
    "coords = COORDS.copy()"
   ]
  },
  {
   "cell_type": "markdown",
   "id": "42cc7616",
   "metadata": {},
   "source": [
    "# Ajout de colonnes depuis 'date'"
   ]
  },
  {
   "cell_type": "code",
   "execution_count": 168,
   "id": "3eabab24",
   "metadata": {
    "ExecuteTime": {
     "end_time": "2021-11-29T18:48:11.166741Z",
     "start_time": "2021-11-29T18:47:44.948262Z"
    }
   },
   "outputs": [],
   "source": [
    "train[\"month\"] = train[\"date\"].replace(to_replace=\"^.{5}\", value=\"\", regex=True)\\\n",
    "                              .replace(to_replace=\".{12}$\", value=\"\", regex=True)\n",
    "\n",
    "train[\"day\"] = train[\"date\"].replace(to_replace=\"^.{8}\", value=\"\", regex=True)\\\n",
    "                            .replace(to_replace=\".{9}$\", value=\"\", regex=True)\n",
    "\n",
    "train[\"hour\"] = train[\"date\"].replace(to_replace=\"^.{11}\", value=\"\", regex=True)\\\n",
    "                             .replace(to_replace=\".{6}$\", value=\"\", regex=True)"
   ]
  },
  {
   "cell_type": "code",
   "execution_count": 169,
   "id": "52194e00",
   "metadata": {
    "ExecuteTime": {
     "end_time": "2021-11-29T18:48:12.187015Z",
     "start_time": "2021-11-29T18:48:12.093265Z"
    }
   },
   "outputs": [],
   "source": [
    "del train[\"date\"]"
   ]
  },
  {
   "cell_type": "code",
   "execution_count": 170,
   "id": "212b02d9",
   "metadata": {
    "ExecuteTime": {
     "end_time": "2021-11-29T18:48:13.843199Z",
     "start_time": "2021-11-29T18:48:12.250245Z"
    }
   },
   "outputs": [],
   "source": [
    "train = train.astype({\"month\": \"int8\", \"day\": \"int8\", \"hour\": \"int8\"})"
   ]
  },
  {
   "cell_type": "markdown",
   "id": "9e3d83c2",
   "metadata": {},
   "source": [
    "# Ajout des coordonnées"
   ]
  },
  {
   "cell_type": "code",
   "execution_count": 171,
   "id": "c89713b8",
   "metadata": {
    "ExecuteTime": {
     "end_time": "2021-11-29T18:48:14.888745Z",
     "start_time": "2021-11-29T18:48:13.939674Z"
    }
   },
   "outputs": [],
   "source": [
    "train = train.merge(coords, how=\"left\", on=\"number_sta\")"
   ]
  },
  {
   "cell_type": "code",
   "execution_count": 172,
   "id": "5693b432",
   "metadata": {
    "ExecuteTime": {
     "end_time": "2021-11-29T18:48:15.745157Z",
     "start_time": "2021-11-29T18:48:15.000460Z"
    }
   },
   "outputs": [],
   "source": [
    "train = train.astype({\"Id\": str, \n",
    "                      \"number_sta\": \"category\", \n",
    "                      \"month\": \"category\", \n",
    "                      \"day\": \"category\", \n",
    "                      \"hour\": \"category\"})"
   ]
  },
  {
   "cell_type": "markdown",
   "id": "19be52d6",
   "metadata": {},
   "source": [
    "# Regroupement des données"
   ]
  },
  {
   "cell_type": "code",
   "execution_count": 173,
   "id": "2bc6761a",
   "metadata": {
    "ExecuteTime": {
     "end_time": "2021-11-29T18:48:22.950702Z",
     "start_time": "2021-11-29T18:48:15.872519Z"
    }
   },
   "outputs": [],
   "source": [
    "train[\"Id\"].replace(to_replace=\".\\d+$\", value=\"\", regex=True, inplace=True)"
   ]
  },
  {
   "cell_type": "code",
   "execution_count": 174,
   "id": "189c4701",
   "metadata": {
    "ExecuteTime": {
     "end_time": "2021-11-29T18:48:23.074937Z",
     "start_time": "2021-11-29T18:48:23.014773Z"
    },
    "scrolled": false
   },
   "outputs": [
    {
     "data": {
      "text/html": [
       "<div>\n",
       "<style scoped>\n",
       "    .dataframe tbody tr th:only-of-type {\n",
       "        vertical-align: middle;\n",
       "    }\n",
       "\n",
       "    .dataframe tbody tr th {\n",
       "        vertical-align: top;\n",
       "    }\n",
       "\n",
       "    .dataframe thead th {\n",
       "        text-align: right;\n",
       "    }\n",
       "</style>\n",
       "<table border=\"1\" class=\"dataframe\">\n",
       "  <thead>\n",
       "    <tr style=\"text-align: right;\">\n",
       "      <th></th>\n",
       "      <th>number_sta</th>\n",
       "      <th>ff</th>\n",
       "      <th>t</th>\n",
       "      <th>td</th>\n",
       "      <th>hu</th>\n",
       "      <th>dd</th>\n",
       "      <th>precip</th>\n",
       "      <th>Id</th>\n",
       "      <th>month</th>\n",
       "      <th>day</th>\n",
       "      <th>hour</th>\n",
       "      <th>lat</th>\n",
       "      <th>lon</th>\n",
       "      <th>height_sta</th>\n",
       "    </tr>\n",
       "  </thead>\n",
       "  <tbody>\n",
       "    <tr>\n",
       "      <th>0</th>\n",
       "      <td>14066001</td>\n",
       "      <td>3.05</td>\n",
       "      <td>279.28</td>\n",
       "      <td>277.97</td>\n",
       "      <td>91.4</td>\n",
       "      <td>200.0</td>\n",
       "      <td>0.0</td>\n",
       "      <td>14066001_0</td>\n",
       "      <td>1</td>\n",
       "      <td>1</td>\n",
       "      <td>0</td>\n",
       "      <td>49.334</td>\n",
       "      <td>-0.431</td>\n",
       "      <td>2.0</td>\n",
       "    </tr>\n",
       "    <tr>\n",
       "      <th>1</th>\n",
       "      <td>14066001</td>\n",
       "      <td>2.57</td>\n",
       "      <td>278.76</td>\n",
       "      <td>277.45</td>\n",
       "      <td>91.4</td>\n",
       "      <td>190.0</td>\n",
       "      <td>0.0</td>\n",
       "      <td>14066001_0</td>\n",
       "      <td>1</td>\n",
       "      <td>1</td>\n",
       "      <td>1</td>\n",
       "      <td>49.334</td>\n",
       "      <td>-0.431</td>\n",
       "      <td>2.0</td>\n",
       "    </tr>\n",
       "    <tr>\n",
       "      <th>2</th>\n",
       "      <td>14066001</td>\n",
       "      <td>2.26</td>\n",
       "      <td>278.27</td>\n",
       "      <td>277.02</td>\n",
       "      <td>91.7</td>\n",
       "      <td>181.0</td>\n",
       "      <td>0.0</td>\n",
       "      <td>14066001_0</td>\n",
       "      <td>1</td>\n",
       "      <td>1</td>\n",
       "      <td>2</td>\n",
       "      <td>49.334</td>\n",
       "      <td>-0.431</td>\n",
       "      <td>2.0</td>\n",
       "    </tr>\n",
       "    <tr>\n",
       "      <th>3</th>\n",
       "      <td>14066001</td>\n",
       "      <td>2.62</td>\n",
       "      <td>277.98</td>\n",
       "      <td>276.95</td>\n",
       "      <td>93.0</td>\n",
       "      <td>159.0</td>\n",
       "      <td>0.0</td>\n",
       "      <td>14066001_0</td>\n",
       "      <td>1</td>\n",
       "      <td>1</td>\n",
       "      <td>3</td>\n",
       "      <td>49.334</td>\n",
       "      <td>-0.431</td>\n",
       "      <td>2.0</td>\n",
       "    </tr>\n",
       "    <tr>\n",
       "      <th>4</th>\n",
       "      <td>14066001</td>\n",
       "      <td>2.99</td>\n",
       "      <td>277.32</td>\n",
       "      <td>276.72</td>\n",
       "      <td>95.9</td>\n",
       "      <td>171.0</td>\n",
       "      <td>0.0</td>\n",
       "      <td>14066001_0</td>\n",
       "      <td>1</td>\n",
       "      <td>1</td>\n",
       "      <td>4</td>\n",
       "      <td>49.334</td>\n",
       "      <td>-0.431</td>\n",
       "      <td>2.0</td>\n",
       "    </tr>\n",
       "    <tr>\n",
       "      <th>...</th>\n",
       "      <td>...</td>\n",
       "      <td>...</td>\n",
       "      <td>...</td>\n",
       "      <td>...</td>\n",
       "      <td>...</td>\n",
       "      <td>...</td>\n",
       "      <td>...</td>\n",
       "      <td>...</td>\n",
       "      <td>...</td>\n",
       "      <td>...</td>\n",
       "      <td>...</td>\n",
       "      <td>...</td>\n",
       "      <td>...</td>\n",
       "      <td>...</td>\n",
       "    </tr>\n",
       "    <tr>\n",
       "      <th>4409469</th>\n",
       "      <td>95690001</td>\n",
       "      <td>9.10</td>\n",
       "      <td>286.68</td>\n",
       "      <td>283.44</td>\n",
       "      <td>80.8</td>\n",
       "      <td>239.0</td>\n",
       "      <td>0.0</td>\n",
       "      <td>95690001_729</td>\n",
       "      <td>12</td>\n",
       "      <td>30</td>\n",
       "      <td>19</td>\n",
       "      <td>49.108</td>\n",
       "      <td>1.831</td>\n",
       "      <td>126.0</td>\n",
       "    </tr>\n",
       "    <tr>\n",
       "      <th>4409470</th>\n",
       "      <td>95690001</td>\n",
       "      <td>8.58</td>\n",
       "      <td>286.39</td>\n",
       "      <td>283.21</td>\n",
       "      <td>81.1</td>\n",
       "      <td>231.0</td>\n",
       "      <td>0.0</td>\n",
       "      <td>95690001_729</td>\n",
       "      <td>12</td>\n",
       "      <td>30</td>\n",
       "      <td>20</td>\n",
       "      <td>49.108</td>\n",
       "      <td>1.831</td>\n",
       "      <td>126.0</td>\n",
       "    </tr>\n",
       "    <tr>\n",
       "      <th>4409471</th>\n",
       "      <td>95690001</td>\n",
       "      <td>8.74</td>\n",
       "      <td>286.28</td>\n",
       "      <td>283.40</td>\n",
       "      <td>82.6</td>\n",
       "      <td>226.0</td>\n",
       "      <td>0.0</td>\n",
       "      <td>95690001_729</td>\n",
       "      <td>12</td>\n",
       "      <td>30</td>\n",
       "      <td>21</td>\n",
       "      <td>49.108</td>\n",
       "      <td>1.831</td>\n",
       "      <td>126.0</td>\n",
       "    </tr>\n",
       "    <tr>\n",
       "      <th>4409472</th>\n",
       "      <td>95690001</td>\n",
       "      <td>9.04</td>\n",
       "      <td>286.21</td>\n",
       "      <td>283.29</td>\n",
       "      <td>82.4</td>\n",
       "      <td>224.0</td>\n",
       "      <td>0.0</td>\n",
       "      <td>95690001_729</td>\n",
       "      <td>12</td>\n",
       "      <td>30</td>\n",
       "      <td>22</td>\n",
       "      <td>49.108</td>\n",
       "      <td>1.831</td>\n",
       "      <td>126.0</td>\n",
       "    </tr>\n",
       "    <tr>\n",
       "      <th>4409473</th>\n",
       "      <td>95690001</td>\n",
       "      <td>9.11</td>\n",
       "      <td>285.92</td>\n",
       "      <td>282.42</td>\n",
       "      <td>79.4</td>\n",
       "      <td>221.0</td>\n",
       "      <td>0.0</td>\n",
       "      <td>95690001_729</td>\n",
       "      <td>12</td>\n",
       "      <td>30</td>\n",
       "      <td>23</td>\n",
       "      <td>49.108</td>\n",
       "      <td>1.831</td>\n",
       "      <td>126.0</td>\n",
       "    </tr>\n",
       "  </tbody>\n",
       "</table>\n",
       "<p>4409474 rows × 14 columns</p>\n",
       "</div>"
      ],
      "text/plain": [
       "        number_sta    ff       t      td    hu     dd  precip            Id  \\\n",
       "0         14066001  3.05  279.28  277.97  91.4  200.0     0.0    14066001_0   \n",
       "1         14066001  2.57  278.76  277.45  91.4  190.0     0.0    14066001_0   \n",
       "2         14066001  2.26  278.27  277.02  91.7  181.0     0.0    14066001_0   \n",
       "3         14066001  2.62  277.98  276.95  93.0  159.0     0.0    14066001_0   \n",
       "4         14066001  2.99  277.32  276.72  95.9  171.0     0.0    14066001_0   \n",
       "...            ...   ...     ...     ...   ...    ...     ...           ...   \n",
       "4409469   95690001  9.10  286.68  283.44  80.8  239.0     0.0  95690001_729   \n",
       "4409470   95690001  8.58  286.39  283.21  81.1  231.0     0.0  95690001_729   \n",
       "4409471   95690001  8.74  286.28  283.40  82.6  226.0     0.0  95690001_729   \n",
       "4409472   95690001  9.04  286.21  283.29  82.4  224.0     0.0  95690001_729   \n",
       "4409473   95690001  9.11  285.92  282.42  79.4  221.0     0.0  95690001_729   \n",
       "\n",
       "        month day hour     lat    lon  height_sta  \n",
       "0           1   1    0  49.334 -0.431         2.0  \n",
       "1           1   1    1  49.334 -0.431         2.0  \n",
       "2           1   1    2  49.334 -0.431         2.0  \n",
       "3           1   1    3  49.334 -0.431         2.0  \n",
       "4           1   1    4  49.334 -0.431         2.0  \n",
       "...       ...  ..  ...     ...    ...         ...  \n",
       "4409469    12  30   19  49.108  1.831       126.0  \n",
       "4409470    12  30   20  49.108  1.831       126.0  \n",
       "4409471    12  30   21  49.108  1.831       126.0  \n",
       "4409472    12  30   22  49.108  1.831       126.0  \n",
       "4409473    12  30   23  49.108  1.831       126.0  \n",
       "\n",
       "[4409474 rows x 14 columns]"
      ]
     },
     "execution_count": 174,
     "metadata": {},
     "output_type": "execute_result"
    }
   ],
   "source": [
    "train"
   ]
  },
  {
   "cell_type": "code",
   "execution_count": 175,
   "id": "40f85334",
   "metadata": {
    "ExecuteTime": {
     "end_time": "2021-11-29T18:49:11.875341Z",
     "start_time": "2021-11-29T18:48:23.139588Z"
    }
   },
   "outputs": [],
   "source": [
    "train = train.groupby(\"Id\", as_index=False).agg({\n",
    "    \"number_sta\": \"first\",\n",
    "    \"ff\": \"median\",\n",
    "    \"t\": \"median\",\n",
    "    \"td\": \"median\",\n",
    "    \"hu\": \"median\",\n",
    "    \"dd\": \"median\",\n",
    "    \"precip\": \"sum\",\n",
    "    \"month\": \"first\",\n",
    "    \"day\": \"first\",\n",
    "    \"hour\": \"first\",\n",
    "    \"lat\": \"first\",\n",
    "    \"lon\": \"first\",\n",
    "    \"height_sta\": \"first\"\n",
    "})"
   ]
  },
  {
   "cell_type": "code",
   "execution_count": 176,
   "id": "adaptive-nightlife",
   "metadata": {
    "ExecuteTime": {
     "end_time": "2021-11-29T18:49:11.984920Z",
     "start_time": "2021-11-29T18:49:11.940112Z"
    }
   },
   "outputs": [
    {
     "data": {
      "text/html": [
       "<div>\n",
       "<style scoped>\n",
       "    .dataframe tbody tr th:only-of-type {\n",
       "        vertical-align: middle;\n",
       "    }\n",
       "\n",
       "    .dataframe tbody tr th {\n",
       "        vertical-align: top;\n",
       "    }\n",
       "\n",
       "    .dataframe thead th {\n",
       "        text-align: right;\n",
       "    }\n",
       "</style>\n",
       "<table border=\"1\" class=\"dataframe\">\n",
       "  <thead>\n",
       "    <tr style=\"text-align: right;\">\n",
       "      <th></th>\n",
       "      <th>Id</th>\n",
       "      <th>number_sta</th>\n",
       "      <th>ff</th>\n",
       "      <th>t</th>\n",
       "      <th>td</th>\n",
       "      <th>hu</th>\n",
       "      <th>dd</th>\n",
       "      <th>precip</th>\n",
       "      <th>month</th>\n",
       "      <th>day</th>\n",
       "      <th>hour</th>\n",
       "      <th>lat</th>\n",
       "      <th>lon</th>\n",
       "      <th>height_sta</th>\n",
       "    </tr>\n",
       "  </thead>\n",
       "  <tbody>\n",
       "    <tr>\n",
       "      <th>0</th>\n",
       "      <td>14066001_0</td>\n",
       "      <td>14066001</td>\n",
       "      <td>3.695</td>\n",
       "      <td>281.325</td>\n",
       "      <td>278.625</td>\n",
       "      <td>90.15</td>\n",
       "      <td>142.0</td>\n",
       "      <td>0.2</td>\n",
       "      <td>1</td>\n",
       "      <td>1</td>\n",
       "      <td>0</td>\n",
       "      <td>49.334</td>\n",
       "      <td>-0.431</td>\n",
       "      <td>2.0</td>\n",
       "    </tr>\n",
       "    <tr>\n",
       "      <th>1</th>\n",
       "      <td>14066001_1</td>\n",
       "      <td>14066001</td>\n",
       "      <td>7.690</td>\n",
       "      <td>282.870</td>\n",
       "      <td>280.045</td>\n",
       "      <td>83.60</td>\n",
       "      <td>207.0</td>\n",
       "      <td>3.4</td>\n",
       "      <td>1</td>\n",
       "      <td>2</td>\n",
       "      <td>0</td>\n",
       "      <td>49.334</td>\n",
       "      <td>-0.431</td>\n",
       "      <td>2.0</td>\n",
       "    </tr>\n",
       "    <tr>\n",
       "      <th>2</th>\n",
       "      <td>14066001_10</td>\n",
       "      <td>14066001</td>\n",
       "      <td>5.340</td>\n",
       "      <td>279.520</td>\n",
       "      <td>277.385</td>\n",
       "      <td>86.90</td>\n",
       "      <td>226.5</td>\n",
       "      <td>6.0</td>\n",
       "      <td>1</td>\n",
       "      <td>11</td>\n",
       "      <td>0</td>\n",
       "      <td>49.334</td>\n",
       "      <td>-0.431</td>\n",
       "      <td>2.0</td>\n",
       "    </tr>\n",
       "    <tr>\n",
       "      <th>3</th>\n",
       "      <td>14066001_100</td>\n",
       "      <td>14066001</td>\n",
       "      <td>4.435</td>\n",
       "      <td>283.950</td>\n",
       "      <td>278.005</td>\n",
       "      <td>80.95</td>\n",
       "      <td>133.0</td>\n",
       "      <td>11.6</td>\n",
       "      <td>4</td>\n",
       "      <td>10</td>\n",
       "      <td>0</td>\n",
       "      <td>49.334</td>\n",
       "      <td>-0.431</td>\n",
       "      <td>2.0</td>\n",
       "    </tr>\n",
       "    <tr>\n",
       "      <th>4</th>\n",
       "      <td>14066001_101</td>\n",
       "      <td>14066001</td>\n",
       "      <td>1.790</td>\n",
       "      <td>282.720</td>\n",
       "      <td>281.360</td>\n",
       "      <td>89.55</td>\n",
       "      <td>171.5</td>\n",
       "      <td>5.6</td>\n",
       "      <td>4</td>\n",
       "      <td>11</td>\n",
       "      <td>0</td>\n",
       "      <td>49.334</td>\n",
       "      <td>-0.431</td>\n",
       "      <td>2.0</td>\n",
       "    </tr>\n",
       "    <tr>\n",
       "      <th>...</th>\n",
       "      <td>...</td>\n",
       "      <td>...</td>\n",
       "      <td>...</td>\n",
       "      <td>...</td>\n",
       "      <td>...</td>\n",
       "      <td>...</td>\n",
       "      <td>...</td>\n",
       "      <td>...</td>\n",
       "      <td>...</td>\n",
       "      <td>...</td>\n",
       "      <td>...</td>\n",
       "      <td>...</td>\n",
       "      <td>...</td>\n",
       "      <td>...</td>\n",
       "    </tr>\n",
       "    <tr>\n",
       "      <th>183742</th>\n",
       "      <td>95690001_725</td>\n",
       "      <td>95690001</td>\n",
       "      <td>7.310</td>\n",
       "      <td>279.005</td>\n",
       "      <td>276.850</td>\n",
       "      <td>85.00</td>\n",
       "      <td>202.0</td>\n",
       "      <td>2.4</td>\n",
       "      <td>12</td>\n",
       "      <td>26</td>\n",
       "      <td>0</td>\n",
       "      <td>49.108</td>\n",
       "      <td>1.831</td>\n",
       "      <td>126.0</td>\n",
       "    </tr>\n",
       "    <tr>\n",
       "      <th>183743</th>\n",
       "      <td>95690001_726</td>\n",
       "      <td>95690001</td>\n",
       "      <td>8.285</td>\n",
       "      <td>277.110</td>\n",
       "      <td>274.885</td>\n",
       "      <td>88.75</td>\n",
       "      <td>276.5</td>\n",
       "      <td>3.2</td>\n",
       "      <td>12</td>\n",
       "      <td>27</td>\n",
       "      <td>0</td>\n",
       "      <td>49.108</td>\n",
       "      <td>1.831</td>\n",
       "      <td>126.0</td>\n",
       "    </tr>\n",
       "    <tr>\n",
       "      <th>183744</th>\n",
       "      <td>95690001_727</td>\n",
       "      <td>95690001</td>\n",
       "      <td>2.875</td>\n",
       "      <td>274.495</td>\n",
       "      <td>273.055</td>\n",
       "      <td>88.70</td>\n",
       "      <td>250.5</td>\n",
       "      <td>0.0</td>\n",
       "      <td>12</td>\n",
       "      <td>28</td>\n",
       "      <td>0</td>\n",
       "      <td>49.108</td>\n",
       "      <td>1.831</td>\n",
       "      <td>126.0</td>\n",
       "    </tr>\n",
       "    <tr>\n",
       "      <th>183745</th>\n",
       "      <td>95690001_728</td>\n",
       "      <td>95690001</td>\n",
       "      <td>6.545</td>\n",
       "      <td>278.760</td>\n",
       "      <td>275.480</td>\n",
       "      <td>91.95</td>\n",
       "      <td>210.0</td>\n",
       "      <td>4.4</td>\n",
       "      <td>12</td>\n",
       "      <td>29</td>\n",
       "      <td>0</td>\n",
       "      <td>49.108</td>\n",
       "      <td>1.831</td>\n",
       "      <td>126.0</td>\n",
       "    </tr>\n",
       "    <tr>\n",
       "      <th>183746</th>\n",
       "      <td>95690001_729</td>\n",
       "      <td>95690001</td>\n",
       "      <td>8.840</td>\n",
       "      <td>286.335</td>\n",
       "      <td>283.645</td>\n",
       "      <td>89.80</td>\n",
       "      <td>235.0</td>\n",
       "      <td>5.4</td>\n",
       "      <td>12</td>\n",
       "      <td>30</td>\n",
       "      <td>0</td>\n",
       "      <td>49.108</td>\n",
       "      <td>1.831</td>\n",
       "      <td>126.0</td>\n",
       "    </tr>\n",
       "  </tbody>\n",
       "</table>\n",
       "<p>183747 rows × 14 columns</p>\n",
       "</div>"
      ],
      "text/plain": [
       "                  Id  number_sta     ff        t       td     hu     dd  \\\n",
       "0         14066001_0    14066001  3.695  281.325  278.625  90.15  142.0   \n",
       "1         14066001_1    14066001  7.690  282.870  280.045  83.60  207.0   \n",
       "2        14066001_10    14066001  5.340  279.520  277.385  86.90  226.5   \n",
       "3       14066001_100    14066001  4.435  283.950  278.005  80.95  133.0   \n",
       "4       14066001_101    14066001  1.790  282.720  281.360  89.55  171.5   \n",
       "...              ...         ...    ...      ...      ...    ...    ...   \n",
       "183742  95690001_725    95690001  7.310  279.005  276.850  85.00  202.0   \n",
       "183743  95690001_726    95690001  8.285  277.110  274.885  88.75  276.5   \n",
       "183744  95690001_727    95690001  2.875  274.495  273.055  88.70  250.5   \n",
       "183745  95690001_728    95690001  6.545  278.760  275.480  91.95  210.0   \n",
       "183746  95690001_729    95690001  8.840  286.335  283.645  89.80  235.0   \n",
       "\n",
       "        precip  month  day  hour     lat    lon  height_sta  \n",
       "0          0.2      1    1     0  49.334 -0.431         2.0  \n",
       "1          3.4      1    2     0  49.334 -0.431         2.0  \n",
       "2          6.0      1   11     0  49.334 -0.431         2.0  \n",
       "3         11.6      4   10     0  49.334 -0.431         2.0  \n",
       "4          5.6      4   11     0  49.334 -0.431         2.0  \n",
       "...        ...    ...  ...   ...     ...    ...         ...  \n",
       "183742     2.4     12   26     0  49.108  1.831       126.0  \n",
       "183743     3.2     12   27     0  49.108  1.831       126.0  \n",
       "183744     0.0     12   28     0  49.108  1.831       126.0  \n",
       "183745     4.4     12   29     0  49.108  1.831       126.0  \n",
       "183746     5.4     12   30     0  49.108  1.831       126.0  \n",
       "\n",
       "[183747 rows x 14 columns]"
      ]
     },
     "execution_count": 176,
     "metadata": {},
     "output_type": "execute_result"
    }
   ],
   "source": [
    "train"
   ]
  },
  {
   "cell_type": "markdown",
   "id": "impressive-wedding",
   "metadata": {},
   "source": [
    "# DropNA"
   ]
  },
  {
   "cell_type": "code",
   "execution_count": 183,
   "id": "ranking-seattle",
   "metadata": {
    "ExecuteTime": {
     "end_time": "2021-11-29T18:50:34.944899Z",
     "start_time": "2021-11-29T18:50:34.780901Z"
    }
   },
   "outputs": [],
   "source": [
    "y_train = y.dropna()"
   ]
  },
  {
   "cell_type": "code",
   "execution_count": 184,
   "id": "standard-possibility",
   "metadata": {
    "ExecuteTime": {
     "end_time": "2021-11-29T18:50:36.491953Z",
     "start_time": "2021-11-29T18:50:36.413786Z"
    }
   },
   "outputs": [],
   "source": [
    "train = train[train[\"Id\"].isin(y_train[\"Id\"])]"
   ]
  },
  {
   "cell_type": "code",
   "execution_count": 187,
   "id": "mobile-reason",
   "metadata": {
    "ExecuteTime": {
     "end_time": "2021-11-29T18:51:05.978813Z",
     "start_time": "2021-11-29T18:51:05.964852Z"
    }
   },
   "outputs": [],
   "source": [
    "y_train = y_train[\"Ground_truth\"]"
   ]
  },
  {
   "cell_type": "markdown",
   "id": "9692b0db",
   "metadata": {},
   "source": [
    "# Modèle"
   ]
  },
  {
   "cell_type": "code",
   "execution_count": 189,
   "id": "d8406775",
   "metadata": {
    "ExecuteTime": {
     "end_time": "2021-11-29T18:51:23.151138Z",
     "start_time": "2021-11-29T18:51:23.132189Z"
    }
   },
   "outputs": [],
   "source": [
    "X = train.drop(\"Id\", axis=1)\n",
    "Y = y_train"
   ]
  },
  {
   "cell_type": "code",
   "execution_count": 190,
   "id": "79cc03b9",
   "metadata": {
    "ExecuteTime": {
     "end_time": "2021-11-29T18:51:24.925650Z",
     "start_time": "2021-11-29T18:51:24.454017Z"
    }
   },
   "outputs": [],
   "source": [
    "X_train, X_test, Y_train, Y_test = train_test_split(X, Y, test_size=.25, random_state=42)"
   ]
  },
  {
   "cell_type": "code",
   "execution_count": 191,
   "id": "a04eb8aa",
   "metadata": {
    "ExecuteTime": {
     "end_time": "2021-11-29T18:51:25.466689Z",
     "start_time": "2021-11-29T18:51:25.444635Z"
    }
   },
   "outputs": [],
   "source": [
    "my_xgbr = XGBRegressor()"
   ]
  },
  {
   "cell_type": "code",
   "execution_count": 192,
   "id": "842371c0",
   "metadata": {
    "ExecuteTime": {
     "end_time": "2021-11-29T18:51:30.343761Z",
     "start_time": "2021-11-29T18:51:26.229880Z"
    }
   },
   "outputs": [
    {
     "data": {
      "text/plain": [
       "XGBRegressor(base_score=0.5, booster='gbtree', colsample_bylevel=1,\n",
       "             colsample_bynode=1, colsample_bytree=1, gamma=0, gpu_id=-1,\n",
       "             importance_type='gain', interaction_constraints='',\n",
       "             learning_rate=0.300000012, max_delta_step=0, max_depth=6,\n",
       "             min_child_weight=1, missing=nan, monotone_constraints='()',\n",
       "             n_estimators=100, n_jobs=12, num_parallel_tree=1, random_state=0,\n",
       "             reg_alpha=0, reg_lambda=1, scale_pos_weight=1, subsample=1,\n",
       "             tree_method='exact', validate_parameters=1, verbosity=None)"
      ]
     },
     "execution_count": 192,
     "metadata": {},
     "output_type": "execute_result"
    }
   ],
   "source": [
    "my_xgbr.fit(X_train, Y_train)"
   ]
  },
  {
   "cell_type": "code",
   "execution_count": 193,
   "id": "74784960",
   "metadata": {
    "ExecuteTime": {
     "end_time": "2021-11-29T18:51:31.188516Z",
     "start_time": "2021-11-29T18:51:31.125084Z"
    }
   },
   "outputs": [],
   "source": [
    "pred = my_xgbr.predict(X_test)"
   ]
  },
  {
   "cell_type": "code",
   "execution_count": 197,
   "id": "freelance-state",
   "metadata": {
    "ExecuteTime": {
     "end_time": "2021-11-29T18:51:39.890154Z",
     "start_time": "2021-11-29T18:51:39.869239Z"
    }
   },
   "outputs": [
    {
     "data": {
      "text/plain": [
       "1.6908471184219391"
      ]
     },
     "execution_count": 197,
     "metadata": {},
     "output_type": "execute_result"
    }
   ],
   "source": [
    "mape(pred, Y_test)"
   ]
  },
  {
   "cell_type": "code",
   "execution_count": null,
   "id": "clinical-alexander",
   "metadata": {},
   "outputs": [],
   "source": []
  }
 ],
 "metadata": {
  "kernelspec": {
   "display_name": "Python 3",
   "language": "python",
   "name": "python3"
  },
  "toc": {
   "base_numbering": 1,
   "nav_menu": {},
   "number_sections": false,
   "sideBar": true,
   "skip_h1_title": false,
   "title_cell": "Table of Contents",
   "title_sidebar": "Contents",
   "toc_cell": true,
   "toc_position": {
    "height": "calc(100% - 180px)",
    "left": "10px",
    "top": "150px",
    "width": "205.4px"
   },
   "toc_section_display": true,
   "toc_window_display": true
  },
  "varInspector": {
   "cols": {
    "lenName": 16,
    "lenType": 16,
    "lenVar": 40
   },
   "kernels_config": {
    "python": {
     "delete_cmd_postfix": "",
     "delete_cmd_prefix": "del ",
     "library": "var_list.py",
     "varRefreshCmd": "print(var_dic_list())"
    },
    "r": {
     "delete_cmd_postfix": ") ",
     "delete_cmd_prefix": "rm(",
     "library": "var_list.r",
     "varRefreshCmd": "cat(var_dic_list()) "
    }
   },
   "position": {
    "height": "349.85px",
    "left": "1340.6px",
    "right": "20px",
    "top": "140px",
    "width": "177.4px"
   },
   "types_to_exclude": [
    "module",
    "function",
    "builtin_function_or_method",
    "instance",
    "_Feature"
   ],
   "window_display": false
  }
 },
 "nbformat": 4,
 "nbformat_minor": 5
}
