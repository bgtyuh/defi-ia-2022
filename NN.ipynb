{
 "cells": [
  {
   "cell_type": "markdown",
   "id": "88fec2cf-ae56-45ef-9110-6e75f9f0a7e8",
   "metadata": {},
   "source": [
    "# Deep Neural Network\n",
    "\n",
    "We attempt to implement a neural network for giving predictions. Appropriate articles explaining:\n",
    "* [Regression with Neural Networks in PyTorch](https://medium.com/@benjamin.phillips22/simple-regression-with-neural-networks-in-pytorch-313f06910379) (Medium)\n",
    "* [How to create a neural network for regression with PyTorch](https://www.machinecurve.com/index.php/2021/07/20/how-to-create-a-neural-network-for-regression-with-pytorch/) (Machinecurve.com)"
   ]
  },
  {
   "cell_type": "code",
   "execution_count": 1,
   "id": "2bc67089-2e10-454a-b950-024022698513",
   "metadata": {},
   "outputs": [],
   "source": [
    "import pandas as pd\n",
    "import numpy as np\n",
    "import matplotlib.pyplot as plt\n",
    "import plotly.graph_objects as go\n",
    "import plotly.express as px\n",
    "from sklearn.metrics import mean_absolute_percentage_error as mape # usage : print(mape(pred, observed))\n",
    "\n",
    "import datetime\n",
    "\n",
    "import torch\n",
    "\n",
    "path = 'C:/Users/sebir/Desktop/M2 Toulouse/Défi IA/'"
   ]
  },
  {
   "cell_type": "markdown",
   "id": "360d395d-6130-494c-96da-0ec9f6ab4a88",
   "metadata": {},
   "source": [
    "# Import data"
   ]
  },
  {
   "cell_type": "code",
   "execution_count": 2,
   "id": "d1ae53eb-219b-484c-a6b4-8d2c1c0f9c6b",
   "metadata": {},
   "outputs": [],
   "source": [
    "# Training set, X\n",
    "X = pd.read_csv(path + 'X_station_train.csv',\n",
    "                parse_dates=['date'],\n",
    "                infer_datetime_format=True)\n",
    "X.columns = ['number_sta', 'date', 'wind_speed', 'temperature', 'dew_point_temperature', 'humidity', 'wind_direction', 'precipitation', 'Id']\n",
    "\n",
    "# X_agg_filledNA = pd.read_csv(path + 'our_X_agg_filled_nearestNeighbours.csv',\n",
    "#                              parse_dates=['day'],\n",
    "#                              infer_datetime_format=True)\n",
    "\n",
    "# Training set, Y\n",
    "Y = pd.read_csv(path + 'Y_train.csv',\n",
    "                parse_dates=['date'],\n",
    "                infer_datetime_format=True)\n",
    "\n",
    "# Y_filledwithNA = pd.read_csv(path + 'Y_train.csv',\n",
    "#                 parse_dates=['date'],\n",
    "#                 infer_datetime_format=True)"
   ]
  },
  {
   "cell_type": "markdown",
   "id": "51d17a70-3851-4dde-b1de-cccf1c751c2d",
   "metadata": {},
   "source": [
    "# Preprocess data"
   ]
  },
  {
   "cell_type": "markdown",
   "id": "18e9e1d9-ba3e-4e96-84f2-a70a1a34c502",
   "metadata": {
    "tags": []
   },
   "source": [
    "## `X` hourly to `X_agg`"
   ]
  },
  {
   "cell_type": "markdown",
   "id": "25792441-10b9-415f-a922-c63cd5bd8315",
   "metadata": {},
   "source": [
    "We have to group the data by data in order to have something comparable with `Y`"
   ]
  },
  {
   "cell_type": "code",
   "execution_count": 3,
   "id": "a5f73906-a159-476e-8645-1352c286a1b9",
   "metadata": {},
   "outputs": [],
   "source": [
    "X['day'] = X['date'].apply(lambda x: x.date())"
   ]
  },
  {
   "cell_type": "code",
   "execution_count": 4,
   "id": "d51217fe-31fb-42f0-8327-24ae14a391c1",
   "metadata": {},
   "outputs": [],
   "source": [
    "X_agg = X.copy()\n",
    "X_agg = X_agg.groupby(by = ['day', 'number_sta'], as_index = False).agg({\n",
    "    \"number_sta\"            : \"first\",\n",
    "    \"wind_speed\"            : \"median\",\n",
    "    \"temperature\"           : \"median\",\n",
    "    \"dew_point_temperature\" : \"median\",\n",
    "    \"humidity\"              : \"median\",\n",
    "    \"wind_direction\"        : \"median\",\n",
    "    \"precipitation\"         : \"sum\"\n",
    "})"
   ]
  },
  {
   "cell_type": "markdown",
   "id": "b4425efc-7695-405a-93e0-56f5b8f07479",
   "metadata": {},
   "source": [
    "We firstly drop all the NAs."
   ]
  },
  {
   "cell_type": "code",
   "execution_count": 5,
   "id": "2d033058-8afc-4fed-93b7-cde4bce30fd6",
   "metadata": {},
   "outputs": [],
   "source": [
    "X_agg.dropna(inplace = True)\n",
    "Y = Y.loc[X_agg.index]\n",
    "\n",
    "Y.dropna(inplace = True)\n",
    "X_agg = X_agg.loc[Y.index]"
   ]
  },
  {
   "cell_type": "markdown",
   "id": "f18c0015-6bc5-49f6-b118-1ed422a870ef",
   "metadata": {},
   "source": [
    "Adding the month before deleting the date, since we have this information in `X_test`:"
   ]
  },
  {
   "cell_type": "code",
   "execution_count": 6,
   "id": "7c475ebb-e94b-4cb3-a887-8a1d547ddbf6",
   "metadata": {},
   "outputs": [],
   "source": [
    "X_agg['month'] = X_agg['day'].apply(lambda x: x.month)"
   ]
  },
  {
   "cell_type": "markdown",
   "id": "359c41cc-0eb2-4b49-b053-882619a877e6",
   "metadata": {},
   "source": [
    "We then delete the Id in `Y` which won't be helpful"
   ]
  },
  {
   "cell_type": "code",
   "execution_count": 7,
   "id": "267c832d-f110-4293-8a6c-05d3078b17aa",
   "metadata": {},
   "outputs": [],
   "source": [
    "X_agg.drop(['day'], axis = 1, inplace = True)\n",
    "Y.drop(['date', 'Id'], axis = 1, inplace = True)"
   ]
  },
  {
   "cell_type": "markdown",
   "id": "9e6e2bf6-4ad8-411b-96e3-5ed9eb030959",
   "metadata": {},
   "source": [
    "## `X_agg_filledNA`\n",
    "We took `X_agg` and we filled the gaps with data from nearests neighbours. Preprocessing data for coherence with `Y`:"
   ]
  },
  {
   "cell_type": "markdown",
   "id": "3fa61f86-16c0-4531-bcf6-b514cea6f9d2",
   "metadata": {},
   "source": [
    "Adding the month before deleting the date, since we have this information in `X_test`:"
   ]
  },
  {
   "cell_type": "code",
   "execution_count": null,
   "id": "ef8920b4-28b1-4ea0-a313-c26fdad30d52",
   "metadata": {},
   "outputs": [],
   "source": [
    "X_agg_filledNA['month'] = X_agg_filledNA['day'].apply(lambda x: x.month)\n",
    "X_agg_filledNA.drop('day', axis = 1, inplace = True)"
   ]
  },
  {
   "cell_type": "code",
   "execution_count": null,
   "id": "75b3aeb4-1ff0-4074-8d16-da4996b05872",
   "metadata": {},
   "outputs": [],
   "source": [
    "Y_filledwithNA.dropna(inplace = True)\n",
    "X_agg_filledNA = X_agg_filledNA.loc[Y_filledwithNA.index]"
   ]
  },
  {
   "cell_type": "markdown",
   "id": "f1d472fd-98ef-43b0-bcc7-50dc44ea8543",
   "metadata": {},
   "source": [
    "<center><h1>Neural network"
   ]
  },
  {
   "cell_type": "markdown",
   "id": "3c1fa0d7-7076-46d0-90b3-5d3ae01eb4dd",
   "metadata": {},
   "source": [
    "## Imports"
   ]
  },
  {
   "cell_type": "code",
   "execution_count": 8,
   "id": "9193711a-0665-4996-b89e-34b327b843c8",
   "metadata": {},
   "outputs": [],
   "source": [
    "import torch\n",
    "from torch import nn\n",
    "from torch.utils.data import DataLoader\n",
    "from sklearn.preprocessing import StandardScaler"
   ]
  },
  {
   "cell_type": "markdown",
   "id": "b04a5b2a-6264-4148-bfdb-271729a20a9b",
   "metadata": {},
   "source": [
    "## Represent data set"
   ]
  },
  {
   "cell_type": "code",
   "execution_count": 9,
   "id": "4dab0b93-4367-4d8c-b617-938d0112eea1",
   "metadata": {},
   "outputs": [],
   "source": [
    "class MeteoDataset(torch.utils.data.Dataset):\n",
    "    '''\n",
    "    Prepare the dataset for regression\n",
    "    '''\n",
    "\n",
    "    def __init__(self, X, y, scale_data=True):\n",
    "        if not torch.is_tensor(X) and not torch.is_tensor(y):\n",
    "            # Apply scaling if necessary\n",
    "            if scale_data:\n",
    "                X = StandardScaler().fit_transform(X)\n",
    "            self.X = torch.from_numpy(X)\n",
    "            self.y = torch.from_numpy(y)\n",
    "\n",
    "    def __len__(self):\n",
    "        return len(self.X)\n",
    "\n",
    "    def __getitem__(self, i):\n",
    "        return self.X[i], self.y[i]"
   ]
  },
  {
   "cell_type": "markdown",
   "id": "08e64037-c447-4745-aae5-0b4f8403d13f",
   "metadata": {},
   "source": [
    "## Creating the MLP"
   ]
  },
  {
   "cell_type": "code",
   "execution_count": 63,
   "id": "1c4d9ea0-aeb6-48be-9f48-3cc16a2fe6c0",
   "metadata": {},
   "outputs": [],
   "source": [
    "class MLP(nn.Module):\n",
    "    '''\n",
    "    Multilayer Perceptron for regression.\n",
    "    '''\n",
    "    def __init__(self):\n",
    "        super().__init__()\n",
    "        self.layers = nn.Sequential(\n",
    "            nn.Linear(8, 100), # size of the input is here\n",
    "            nn.ReLU(),\n",
    "            nn.Linear(100, 50),\n",
    "            nn.ReLU(),\n",
    "            nn.Linear(50, 1)\n",
    "        )\n",
    "\n",
    "\n",
    "    def forward(self, x):\n",
    "        '''\n",
    "        Forward pass\n",
    "        '''\n",
    "        return self.layers(x)"
   ]
  },
  {
   "cell_type": "markdown",
   "id": "1b18d65a-5f18-4b8c-a799-004010142092",
   "metadata": {},
   "source": [
    "## Load data set"
   ]
  },
  {
   "cell_type": "code",
   "execution_count": 57,
   "id": "d9071a1b-40ae-45c9-8ddd-358f659dac5b",
   "metadata": {},
   "outputs": [],
   "source": [
    "torch.manual_seed(42);"
   ]
  },
  {
   "cell_type": "code",
   "execution_count": 58,
   "id": "51e4bf5a-39f1-40df-96f9-bfcad909b814",
   "metadata": {},
   "outputs": [],
   "source": [
    "from sklearn.model_selection import train_test_split\n",
    "\n",
    "X = X_agg.to_numpy()\n",
    "y = Y['Ground_truth'].to_numpy()\n",
    "\n",
    "X_train, X_test, y_train, y_test = train_test_split(X, y, test_size = 0.3)"
   ]
  },
  {
   "cell_type": "code",
   "execution_count": 59,
   "id": "0005b80e-8691-422c-9805-8491b09f3221",
   "metadata": {},
   "outputs": [],
   "source": [
    "dataset = MeteoDataset(X_train, y_train)\n",
    "trainloader = torch.utils.data.DataLoader(dataset,\n",
    "                                          batch_size = 100,\n",
    "                                          shuffle = True,\n",
    "                                          # num_workers=1\n",
    "                                         )"
   ]
  },
  {
   "cell_type": "markdown",
   "id": "5723fe22-9d49-4033-9b8d-3185aea2096d",
   "metadata": {},
   "source": [
    "## Set up"
   ]
  },
  {
   "cell_type": "code",
   "execution_count": 75,
   "id": "cd872a6c-3628-4122-b0fb-d6edf8cdb5ff",
   "metadata": {},
   "outputs": [],
   "source": [
    "# Reinitialize completely\n",
    "mlp = 0\n",
    "loss_function = 0\n",
    "optimizer = 0\n",
    "\n",
    "\n",
    "# Initialize the MLP\n",
    "mlp = MLP()\n",
    "\n",
    "# Define the loss function and optimizer\n",
    "loss_function = nn.MSELoss()\n",
    "optimizer = torch.optim.Adam(mlp.parameters(), lr = 0.0001)"
   ]
  },
  {
   "cell_type": "markdown",
   "id": "b6555669-cc76-4442-9d86-fcebde3d8e65",
   "metadata": {},
   "source": [
    "## Run"
   ]
  },
  {
   "cell_type": "code",
   "execution_count": 76,
   "id": "d045f950-0b82-4bc0-b595-eec9963e9997",
   "metadata": {},
   "outputs": [
    {
     "name": "stdout",
     "output_type": "stream",
     "text": [
      "Starting epoch 1/50\n",
      "Starting epoch 2/50\n",
      "Starting epoch 3/50\n",
      "Starting epoch 4/50\n",
      "Starting epoch 5/50\n",
      "Starting epoch 6/50\n",
      "Starting epoch 7/50\n",
      "Starting epoch 8/50\n",
      "Starting epoch 9/50\n",
      "Starting epoch 10/50\n",
      "Starting epoch 11/50\n",
      "Starting epoch 12/50\n",
      "Starting epoch 13/50\n",
      "Starting epoch 14/50\n",
      "Starting epoch 15/50\n",
      "Starting epoch 16/50\n",
      "Starting epoch 17/50\n",
      "Starting epoch 18/50\n",
      "Starting epoch 19/50\n",
      "Starting epoch 20/50\n",
      "Starting epoch 21/50\n",
      "Starting epoch 22/50\n",
      "Starting epoch 23/50\n",
      "Starting epoch 24/50\n",
      "Starting epoch 25/50\n",
      "Starting epoch 26/50\n",
      "Starting epoch 27/50\n",
      "Starting epoch 28/50\n",
      "Starting epoch 29/50\n",
      "Starting epoch 30/50\n",
      "Starting epoch 31/50\n",
      "Starting epoch 32/50\n",
      "Starting epoch 33/50\n",
      "Starting epoch 34/50\n",
      "Starting epoch 35/50\n",
      "Starting epoch 36/50\n",
      "Starting epoch 37/50\n",
      "Starting epoch 38/50\n",
      "Starting epoch 39/50\n",
      "Starting epoch 40/50\n",
      "Starting epoch 41/50\n",
      "Starting epoch 42/50\n",
      "Starting epoch 43/50\n",
      "Starting epoch 44/50\n",
      "Starting epoch 45/50\n",
      "Starting epoch 46/50\n",
      "Starting epoch 47/50\n",
      "Starting epoch 48/50\n",
      "Starting epoch 49/50\n",
      "Starting epoch 50/50\n",
      "Training process has finished.\n"
     ]
    },
    {
     "data": {
      "image/png": "[encoded data removed]",
      "text/plain": [
       "<Figure size 432x288 with 1 Axes>"
      ]
     },
     "metadata": {
      "needs_background": "light"
     },
     "output_type": "display_data"
    }
   ],
   "source": [
    "# Run the training loop\n",
    "nbEpoch = 50\n",
    "losses = []\n",
    "for epoch in range(nbEpoch):\n",
    "    print(f'Starting epoch {epoch+1}/{nbEpoch}')\n",
    "\n",
    "    # Set current loss value\n",
    "    current_loss = 0.0\n",
    "\n",
    "    # Iterate over the DataLoader for training data\n",
    "    for i, data in enumerate(trainloader, start = 1):\n",
    "\n",
    "        # Get and prepare inputs\n",
    "        inputs, targets = data\n",
    "        inputs, targets = inputs.float(), targets.float()\n",
    "        targets = targets.reshape((targets.shape[0], 1))\n",
    "\n",
    "        # Zero the gradients\n",
    "        optimizer.zero_grad()\n",
    "\n",
    "        # Perform forward pass\n",
    "        outputs = mlp(inputs)\n",
    "\n",
    "        # Compute loss\n",
    "        loss = loss_function(outputs, targets)\n",
    "\n",
    "        # Perform backward pass\n",
    "        loss.backward()\n",
    "\n",
    "        # Perform optimization\n",
    "        optimizer.step()\n",
    "\n",
    "        # Print statistics\n",
    "        current_loss += loss.item()\n",
    "        if i % 100 == 0:\n",
    "            # print('Loss after mini-batch %5d: %.3f' % (i + 1, current_loss))\n",
    "            losses.append(current_loss)\n",
    "            current_loss = 0.0\n",
    "\n",
    "# Process is complete.\n",
    "print('Training process has finished.')\n",
    "plt.plot(losses);\n",
    "plt.title('Evolution of training error');"
   ]
  },
  {
   "cell_type": "markdown",
   "id": "c1b753a0-a30b-44ba-85a8-f6ef7348dade",
   "metadata": {},
   "source": [
    "## Predictions"
   ]
  },
  {
   "cell_type": "code",
   "execution_count": 28,
   "id": "4a9aa272-f98d-4009-ac2b-1ed4a39b8f30",
   "metadata": {},
   "outputs": [],
   "source": [
    "testset = MeteoDataset(X_test, y_test)\n",
    "testloader = torch.utils.data.DataLoader(testset)"
   ]
  },
  {
   "cell_type": "code",
   "execution_count": 77,
   "id": "a1bc8198-8d2e-4c3a-8e46-e799638c0a9a",
   "metadata": {},
   "outputs": [
    {
     "data": {
      "text/plain": [
       "9.520645842906845"
      ]
     },
     "execution_count": 77,
     "metadata": {},
     "output_type": "execute_result"
    }
   ],
   "source": [
    "outputs = []\n",
    "for i, data in enumerate(testloader, 0):\n",
    "\n",
    "        # Get and prepare inputs\n",
    "        inputs, targets = data\n",
    "        inputs, targets = inputs.float(), targets.float()\n",
    "        targets = targets.reshape((targets.shape[0], 1))\n",
    "\n",
    "        # Perform forward pass\n",
    "        outputs.append(mlp(inputs).detach().item())\n",
    "        \n",
    "mape(outputs, y_test)"
   ]
  },
  {
   "cell_type": "code",
   "execution_count": null,
   "id": "4e94ac76-9b65-4baf-9313-522eaa67886a",
   "metadata": {},
   "outputs": [],
   "source": []
  }
 ],
 "metadata": {
  "kernelspec": {
   "display_name": "DLenv",
   "language": "python",
   "name": "dlenv"
  },
  "language_info": {
   "codemirror_mode": {
    "name": "ipython",
    "version": 3
   },
   "file_extension": ".py",
   "mimetype": "text/x-python",
   "name": "python",
   "nbconvert_exporter": "python",
   "pygments_lexer": "ipython3",
   "version": "3.9.7"
  }
 },
 "nbformat": 4,
 "nbformat_minor": 5
}
